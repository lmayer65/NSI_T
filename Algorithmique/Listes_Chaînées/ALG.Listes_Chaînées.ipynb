{
 "cells": [
  {
   "attachments": {
    "t%C3%A9l%C3%A9chargement.jpg": {
     "image/jpeg": "[encoded data removed]"
    }
   },
   "cell_type": "markdown",
   "metadata": {},
   "source": [
    "# ALG.Listes_chaînées\n",
    "![t%C3%A9l%C3%A9chargement.jpg](attachment:t%C3%A9l%C3%A9chargement.jpg)\n"
   ]
  },
  {
   "cell_type": "markdown",
   "metadata": {},
   "source": [
    "## <u>Activité 1</u> : ajout de fonctionnalités supplémentaires\n",
    "\n",
    "Le programme suivant est celui présenté en cours et permet de construire une liste chaînée. Il y a cinq méthodes de définies :\n",
    "- la méthode `length(self)` qui renvoie le nombre d'éléments de la liste,\n",
    "- la méthode `__str__(self)` qui <b>surcharge</b> la fonction `print(obj)` habituelle,\n",
    "- la méthode `add_front(self,val)` qui ajoute <i>val</i> en <u>début</u> de liste,\n",
    "- la méthode `add_back(self,val)` qui ajoute <i>val</i> en <u>fin</u> de liste,\n",
    "- la méthode `add(self,ind,val)`qui ajoute <i>val</i> à <u>l'indice souhaité</u> dans la liste."
   ]
  },
  {
   "cell_type": "code",
   "execution_count": null,
   "metadata": {},
   "outputs": [],
   "source": [
    "# Définit un élément d'une liste chaînée\n",
    "class Cellule :\n",
    "    def __init__(self,val,suiv) :\n",
    "        self.valeur = val\n",
    "        self.suivante = suiv\n",
    "        \n",
    "        \n",
    "    def length(self) :\n",
    "        long = 0\n",
    "        liste = self # Liste de départ\n",
    "        # Tant que la liste n'est pas vide\n",
    "        while liste is not None :\n",
    "            long += 1\n",
    "            liste = liste.suivante\n",
    "            \n",
    "        return long\n",
    "    \n",
    "    \n",
    "    # Affichage des valeurs de la liste\n",
    "    def __str__(self) : # Permet de surcharger \"print()\"\n",
    "        liste = self\n",
    "        affichage = \"\"\n",
    "        # Tant que l'on n'est pas en fin de liste\n",
    "        while liste is not None :\n",
    "            affichage += str(liste.valeur)\n",
    "            # Pour éviter le \";\" à la fin de la liste\n",
    "            if liste.suivante is not None :\n",
    "                affichage += \" ; \"\n",
    "                \n",
    "            liste = liste.suivante\n",
    "        # Affiche les éléments séparés par un \" ; \"\n",
    "        return affichage\n",
    "    \n",
    "    \n",
    "    # Renvoie la valeur à l'indice `ind` de la liste\n",
    "    def get(self,ind) :\n",
    "        # Contrôle de la validité de l'indice ìnd`\n",
    "        if ind < 0 or ind >= self.length() :\n",
    "            raise IndexError(\"Indice non valide\")\n",
    "            \n",
    "        lst = self\n",
    "        num = 0 # Indices parcourus de la liste\n",
    "        valeur = None\n",
    "        \n",
    "        while lst is not None :\n",
    "            valeur = lst.valeur \n",
    "            \n",
    "            # Si est au bon indice\n",
    "            # on sort de la boucle\n",
    "            if num == ind :\n",
    "                break\n",
    "            \n",
    "            num += 1 # On passe à l'indice suivant\n",
    "            lst = lst.suivante\n",
    "            \n",
    "        return valeur\n",
    "                \n",
    "    \n",
    "    # Ajout en début de liste et renvoi\n",
    "    def add_front(self,val) :\n",
    "        nouv_cel = Cellule(val,self)\n",
    "        return nouv_cel\n",
    "            \n",
    "    \n",
    "    # Ajout en fin de liste et renvoi\n",
    "    def add_back(self,val) :\n",
    "        liste = self\n",
    "        # Parcours de la liste pour trouver le dernier élément\n",
    "        # Tant que l'on n'est pas en fin de liste\n",
    "        while liste.suivante is not None :      \n",
    "            liste = liste.suivante\n",
    "        \n",
    "        # Création et ajout du dernier élément\n",
    "        liste.suivante = Cellule(val,None) \n",
    "        \n",
    "        return self\n",
    "        \n",
    "       \n",
    "    \n",
    "    # Ajout dans la liste à un indice donné (partant de zéro)\n",
    "    # On tient compte du fait qu'il y aura un élément de plus !\n",
    "    def add(self,ind,val) : # Ajout de 'val' à l'indice 'ind'\n",
    "        # Contrôle de la validité de la position\n",
    "        if ind < 0 or ind > self.length() :\n",
    "            raise IndexError(\"Erreur d'indice\")\n",
    "        # Cas particuliers\n",
    "        if ind == 0 :\n",
    "            return self.add_front(val)\n",
    "        \n",
    "        if ind == self.length() :\n",
    "            return self.add_back(val)\n",
    "        \n",
    "        # Récupération du nième élément (liste)\n",
    "        liste = self\n",
    "        num = 0\n",
    "        valeur = None\n",
    "        # Parcours séquentiel de la liste\n",
    "        while liste is not None :\n",
    "            # Si on arrive au n - 1 ième élément, on quitte la boucle\n",
    "            if num == ind - 1 : # Pour récupérer l'élément précédent\n",
    "                break\n",
    "            num += 1\n",
    "            liste = liste.suivante\n",
    "        \n",
    "        # Le nouveau élément pointe vers l'élément suivant\n",
    "        nouv_cel = Cellule(val,liste.suivante)\n",
    "        # L'élément suivant de liste est bien nouv_cel\n",
    "        liste.suivante = nouv_cel\n",
    "        \n",
    "        return self\n",
    "        \n",
    "        \n",
    "        \n",
    "# Création d'une liste chaînée : 1 ; 2 ; a ; x ; 6         \n",
    "lst2 = Cellule(1, Cellule(2, Cellule(\"a\", Cellule(\"x\", Cellule (6,None)))))\n",
    "lst2 = lst2.add_front(\"t\") \n",
    "print(lst2)  # Attendu : t ; 1 ; 2 ; a ; x ; 6\n",
    "lst2 = lst2.add_back(7)\n",
    "print(lst2)  # Attendu : t ; 1 ; 2 ; a ; x ; 6 ; 7\n",
    "lst2 = lst2.add(4,\"v\")\n",
    "print(lst2)  # Attendu : t ; 1 ; 2 ; a ; v ; x ; 6 ; 7"
   ]
  },
  {
   "cell_type": "markdown",
   "metadata": {},
   "source": [
    "1/ <b>Vérifier</b> que le programme fonctionne correctement.\n",
    "\n",
    "2/ <b>Ajouter</b> les méthodes `pop_front(self)`et `pop_back(self)` qui permettent de supprimer respectivement le premier et le dernier élément d'une liste chaînée.\n",
    "Ces méthodes devront retourner la nouvelle liste.\n",
    "<b>Vérifier</b> à l'aide d'un jeu de tests que les méthodes fonctionnent bien.\n",
    "\n",
    "<u>Remarque</u> : dans le langage Python, les ressources mémoires utilisées par les éléments supprimés de la liste ne sont pas nettoyées immédiatement ! C'est le langage qui s'en occupe tout seul par un système de <i>garbage collector</i>.\n",
    "En langage C, il faudra désallouer manuellement la mémoire sous peine de <i>fuites de mémoire</i>.\n",
    "\n",
    "<u>En savoir plus ici</u> : https://welovedevs.com/fr/articles/le-fonctionnement-du-garbage-collector/"
   ]
  },
  {
   "cell_type": "markdown",
   "metadata": {},
   "source": [
    "3/ <b>Ajouter</b> une méthode `count(self,val)` qui permet de compter le nombre de fois (occurences) où <i>val</i> apparaît dans une liste. <b>Vérifier</b> à l'aide d'un jeu de tests que la méthode fonctionne bien.\n",
    "\n",
    "### <u>Appel au professeur</u> (si besoin)\n"
   ]
  },
  {
   "cell_type": "markdown",
   "metadata": {},
   "source": [
    "4/ (+) <b>Ajouter</b> une méthode `reverse(self)`qui permet d'inverser la liste. La méthode doit renvoyer la nouvelle liste. <b>Vérifier</b> à l'aide d'un jeu de tests que la méthode fonctionne bien."
   ]
  },
  {
   "cell_type": "markdown",
   "metadata": {},
   "source": [
    "## <u>Activité 2</u> : Encapsulation d'une liste dans un objet"
   ]
  },
  {
   "cell_type": "markdown",
   "metadata": {},
   "source": [
    "L'idée est de définir une nouvelle classe `Liste` qui possède une unique attribut `premier` : en effet, il va simplement désigner le premier élément de la liste chaînée (ou <i>None</i> si elle est vide).\n",
    "L'intérêt majeur de cette <b>encapsulation</b> est de permettre à l'utilisateur d'ignorer complètement la classe `Cellule` qu'il ne manipulera jamais."
   ]
  },
  {
   "cell_type": "code",
   "execution_count": null,
   "metadata": {},
   "outputs": [],
   "source": [
    "### La classe 'Cellule' est définie plus haut ###\n",
    "\n",
    "# Encapsulation de la classe `Cellule`\n",
    "class Liste :\n",
    "    def __init__(self) :\n",
    "        self.premier = None # Liste vide par défaut\n",
    "    \n",
    "    # Vérifie si la liste est vide\n",
    "    def empty(self) :\n",
    "        return self.premier == None\n",
    "    \n",
    "    # Renvoie la longueur de la liste\n",
    "    def length(self) :\n",
    "        return self.premier.length()\n",
    "    \n",
    "    # Ajoute en début de liste l'élément 'val'\n",
    "    def add_front(self, val) :\n",
    "        self.premier = Cellule(val,self.premier)\n",
    "        return self\n",
    "    \n",
    "    # Ajoute en fin de liste l'élément 'val'\n",
    "    def add_back(self, val) :\n",
    "        self.premier = self.premier.add_back(val)\n",
    "        return self\n",
    "    \n",
    "    # Ajout à un undice 'ind' souhaité de l'élément 'val'\n",
    "    def add(self, ind, val) :\n",
    "        self.premier = self.premier.add(ind,val)\n",
    "        return self\n",
    "    \n",
    "    # Surcharge de la fonction print()\n",
    "    def __str__(self) :\n",
    "        return self.premier.__str__()\n",
    "    \n",
    "\n",
    "list1 = Liste()\n",
    "list1.add_front(\"3\")\n",
    "list1.add_front(5)\n",
    "list1.add_back(\"E\")\n",
    "print(list1.length()) # Attendu : 3\n",
    "list1.add(2,8)\n",
    "print(list1) # Attendu : 5 ,3, 8, E\n",
    "list1.add(4,\"T\")\n",
    "print(list1) # Attendu : 5 ,3, 8, E, T\n",
    "list1.add(6,\"T\") # Attendu : erreur d'indice"
   ]
  },
  {
   "cell_type": "markdown",
   "metadata": {},
   "source": [
    "1/ <b>Vérifier</b> que le programme fonctionne (faire des jeux de tests).\n",
    "\n",
    "### <u>Quelques surcharges d'opérateurs classiques</u>\n",
    "- La méthode `__getitem__(self, indice)` permet de charger l'opérateur [] qui permet <u>d'accéder à l'élément à l'indice souhaité</u> : on pourra ainsi écrire <i>list1[4]</i>, comme pour un tableau classique.\n",
    "- La méthode `__add__(self, val)` permet <u>d'ajouter un élément à l'aide d'une simple addition en fin de liste</u> : on pourra écrire <i>list1 = list1 + val</i>\n",
    "- La méthode `__len__(self)` permet de <u>retourner le nombre d'éléments</u> d'une liste : on pourra ainsi écrire <i>len(list1)</i>.\n",
    "\n",
    "\n",
    "2/ <b>Ecrire</b> dans la classe `Liste` les méthodes ci-dessous. <b>Vérifier</b> par des jeux de tests que tout fonctionne.\n",
    "\n",
    "<u>Aide</u> : ne pas hésiter à appeler les méthodes de la classe `Cellule`.\n",
    "\n",
    "### <u>Appel au professeur</u> (si besoin).\n"
   ]
  },
  {
   "cell_type": "markdown",
   "metadata": {},
   "source": [
    "<u>Conclusion</u> : L'encapsulation permet de simplifier grandement le code de l'utilisateur. De plus, une certaine homogénéité des méthodes est possible grâce au principe de surcharge. Ainsi `len(obj)` doit toujours intuitivement donner la taille d'un objet de type <i>tableau</i> (ou nombre d'éléments d'une liste), l'opérateur `[val]` permettra toujours d'accéder à l'élément voulu etc., il ne faut donc pas hésiter à l'utiliser pour rendre le code plus facilement utilisable par d'autres personnes."
   ]
  }
 ],
 "metadata": {
  "kernelspec": {
   "display_name": "Python 3",
   "language": "python",
   "name": "python3"
  },
  "language_info": {
   "codemirror_mode": {
    "name": "ipython",
    "version": 3
   },
   "file_extension": ".py",
   "mimetype": "text/x-python",
   "name": "python",
   "nbconvert_exporter": "python",
   "pygments_lexer": "ipython3",
   "version": "3.8.5"
  }
 },
 "nbformat": 4,
 "nbformat_minor": 4
}
