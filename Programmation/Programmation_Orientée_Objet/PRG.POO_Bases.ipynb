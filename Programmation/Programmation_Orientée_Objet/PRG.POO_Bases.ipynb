{
 "cells": [
  {
   "cell_type": "markdown",
   "metadata": {
    "colab_type": "text",
    "id": "DPS_QSNa--lf"
   },
   "source": [
    "# PRG.Programmation orientée objet. Bases\n",
    "\n",
    "<u>Source</u> : David Roche, https://pixees.fr/informatiquelycee/n_site/nsi_term_paraProg_poo.html.\n",
    "\n",
    "### <b>Simulation</b> d'un combat entre Bilbo et Gollum."
   ]
  },
  {
   "attachments": {
    "BvsG.jpg": {
     "image/jpeg": "[encoded data removed]"
    }
   },
   "cell_type": "markdown",
   "metadata": {},
   "source": [
    "![BvsG.jpg](attachment:BvsG.jpg)"
   ]
  },
  {
   "cell_type": "markdown",
   "metadata": {
    "colab_type": "text",
    "id": "gyRSb8ZiEvRG"
   },
   "source": [
    "## <u>Activité 1</u> : Création de la classe `Personnage` \n"
   ]
  },
  {
   "cell_type": "markdown",
   "metadata": {
    "colab_type": "text",
    "id": "U8hcg2_jGDtx"
   },
   "source": [
    "1/ <b>Exécuter</b> le code suivant puis le <b>compléter</b> pourqu'il affiche le nombre de points de vies de `gollum`."
   ]
  },
  {
   "cell_type": "code",
   "execution_count": null,
   "metadata": {
    "colab_type": "text",
    "id": "NvaQ0zXUNFfz"
   },
   "outputs": [],
   "source": [
    "class Personnage :\n",
    "    def __init__(self) : # Construit un objet, notez le mot-clé `self`\n",
    "        self.vie = 20    # Ajout de l'attribut vie\n",
    "        \n",
    "gollum = Personnage()  # Instance de la classe Personnage\n",
    "bilbo = Personnage()   # Une autre instance\n",
    "\n",
    "print(bilbo.vie)  # Affiche la vie de bilbo\n",
    "\n",
    "### COMPLETER ICI ###\n",
    "\n",
    "#####################"
   ]
  },
  {
   "cell_type": "markdown",
   "metadata": {
    "colab_type": "text",
    "id": "lDF7RpDlNGMn"
   },
   "source": [
    "<b><u>Quelques explications :</u></b>\n",
    "\n",
    "- Par convention, une classe s'écrit avec une <b>majuscule</b>, un objet avec une <b>minuscule</b>.\n",
    "- La méthode ` __init__(self)` est <b><u>obligatoire</u></b> et permet de construire les objets. On veillera à indiquer tous les attributs (même s'ils sont nuls ou vides) par souci de clarté.\n",
    "- l'instruction `self.vie`permet de créer un <u>attribut</u> (grâce au mot-clé `self`).\n",
    "- On accède aux attributs grâce à l'instruction `NomObjet.Attribut` : il en sera de même pour les <u>méthodes</u>.\n"
   ]
  },
  {
   "cell_type": "markdown",
   "metadata": {
    "colab_type": "text",
    "id": "9rXUEsmeN3Cu"
   },
   "source": [
    "2/ Le programme précédent n'est pas très intéressant car il ne permet pas d'avoir des points de vies différents. <b>Exécuter</b> le programme suivant puis le <b>compléter</b> pour qu'il créé un objet `bilbo` avec 35 points de vie."
   ]
  },
  {
   "cell_type": "code",
   "execution_count": null,
   "metadata": {},
   "outputs": [],
   "source": [
    "class Personnage :\n",
    "    def __init__(self, nbVies) : # Construit un objet, notez le mot-clé `self`\n",
    "        self.vie = nbVies    # Ajout de l'attribut vie\n",
    "        \n",
    "gollum = Personnage(20)  # Instance de la classe Personnage avec un argument\n",
    "print(gollum.vie)  # Affiche la vie de gollum\n",
    "\n",
    "gollum.vie = 30 # Accès direct à l'attribut `vie`\n",
    "print(gollum.vie)\n",
    "\n",
    "### COMPLETER ICI ###\n",
    "\n",
    "\n",
    "#####################"
   ]
  },
  {
   "cell_type": "markdown",
   "metadata": {
    "colab_type": "text",
    "id": "HXPPjMCKOJsV"
   },
   "source": [
    "3/ On va désormais ajouter des <b>méthodes</b> pour rendre la classe complète.<b>Exécuter</b> le programme suivant et <b>rajouter</b> la méthode `perdVie(self)`qui enlève un point de vie. <b>Vérifier</b> que le programme fonctionne."
   ]
  },
  {
   "cell_type": "code",
   "execution_count": null,
   "metadata": {
    "colab": {},
    "colab_type": "code",
    "id": "ztV_qD-XUIMw"
   },
   "outputs": [],
   "source": [
    "class Personnage :\n",
    "    def __init__(self, nbVies) : # Construit un objet, notez le mot-clé `self`\n",
    "        self.vie = nbVies    # Ajout de l'attribut vie\n",
    "        \n",
    "    def donneEtat(self) : # Méthode qui renvoie le nombre de vies\n",
    "        return self.vie\n",
    "    \n",
    "    ### AJOUTER ICI LA METHODE ###\n",
    "    \n",
    "    ##############################\n",
    "    \n",
    "        \n",
    "gollum = Personnage(20)  # Instance de la classe Personnage avec un argument\n",
    "print(gollum.donneEtat())\n",
    "\n",
    "### VERIFIER ICI ###\n",
    "\n",
    "\n",
    "#####################"
   ]
  },
  {
   "cell_type": "markdown",
   "metadata": {
    "colab": {},
    "colab_type": "code",
    "id": "DIGwyZnVCWya"
   },
   "source": [
    "3/ Selon le type d'attaque subi, le personnage peut perdre plus ou moins de points de vie. Pour tenir compte de cet élément, il est possible d'ajouter un paramètre à la méthode `perdVie(self)` .\n",
    "\n",
    "<b>Exécuter</b> le programme suivant :"
   ]
  },
  {
   "cell_type": "code",
   "execution_count": null,
   "metadata": {},
   "outputs": [],
   "source": [
    "class Personnage :\n",
    "    def __init__(self, nbVies) : # Construit un objet, notez le mot-clé `self`\n",
    "        self.vie = nbVies    # Ajout de l'attribut vie\n",
    "        \n",
    "    def donneEtat(self) : # Méthode qui renvoie le nombre de vies\n",
    "        return self.vie\n",
    "    \n",
    "    def perdVie(self,nbVies) : # Méthode qui enlève nbVies \n",
    "        self.vie -= nbVies\n",
    "        \n",
    "gollum = Personnage(30)\n",
    "gollum.perdVie(3)  # Enlève 3 points de vies\n",
    "print(gollum.donneEtat())"
   ]
  },
  {
   "cell_type": "markdown",
   "metadata": {},
   "source": [
    "4/ <b>Exécuter</b> plusieurs fois le programme suivant. Obtient-on le même résultat ? "
   ]
  },
  {
   "cell_type": "code",
   "execution_count": null,
   "metadata": {},
   "outputs": [],
   "source": [
    "import random\n",
    "\n",
    "class Personnage:\n",
    "    def __init__(self, nbreDeVie):\n",
    "        self.vie=nbreDeVie\n",
    "        \n",
    "    def donneEtat (self):\n",
    "        return self.vie\n",
    "    \n",
    "    def perdVie (self):\n",
    "        hasard = random.random() # Donne une valeur aléatoire entre 0 et 1\n",
    "        if hasard > 0.5: \n",
    "            nbPoint = 1\n",
    "        else :\n",
    "            nbPoint = 2\n",
    "            \n",
    "        self.vie -= nbPoint\n",
    "        \n",
    "        \n",
    "bilbo = Personnage(15)\n",
    "bilbo.perdVie()\n",
    "bilbo.perdVie()\n",
    "bilbo.perdVie()\n",
    "print(bilbo.donneEtat())"
   ]
  },
  {
   "cell_type": "markdown",
   "metadata": {
    "colab_type": "text",
    "id": "2TSnOoiGomlW"
   },
   "source": [
    "Comme vous l'avez remarqué, il est possible d'utiliser une instruction conditionnelle (if / else) dans une méthode. Il est donc possible d'utiliser dans le même programme le paradigme objet et le paradigme impératif."
   ]
  },
  {
   "cell_type": "markdown",
   "metadata": {
    "colab_type": "text",
    "id": "MgNVfg2H0iRP"
   },
   "source": [
    "## <u>Activité 2</u> : Combat virtuel entre bilbo et gollum\n",
    "\n"
   ]
  },
  {
   "cell_type": "markdown",
   "metadata": {
    "colab_type": "text",
    "id": "6Kc01aAi0c2H"
   },
   "source": [
    "On va organiser ici un combat virtuel entre bilbo et gollum. \n",
    "\n",
    "1/ : Bien <b>observer</b> le programme suivant et <b>l'exécuter</b>."
   ]
  },
  {
   "cell_type": "code",
   "execution_count": null,
   "metadata": {
    "colab_type": "text",
    "id": "7anQGgcvoxQc"
   },
   "outputs": [],
   "source": [
    "import random\n",
    "\n",
    "class Personnage:\n",
    "    def __init__(self, nbreDeVie):\n",
    "        self.vie=nbreDeVie\n",
    "        \n",
    "    def donneEtat (self):\n",
    "        return self.vie\n",
    "    \n",
    "    def perdVie (self):\n",
    "        hasard = random.random() # Donne une valeur aléatoire entre 0 et 1\n",
    "        if hasard > 0.5: \n",
    "            nbPoint = 1\n",
    "        else :\n",
    "            nbPoint = 2\n",
    "            \n",
    "        self.vie -= nbPoint\n",
    "          \n",
    "        \n",
    "bilbo = Personnage(25)\n",
    "gollum = Personnage(20)\n",
    "\n",
    "\n",
    "jeu_en_cours = True\n",
    "\n",
    "while(jeu_en_cours) : # Boucle tant que le jeu est en cours\n",
    "    \n",
    "    gollum.perdVie()  # bilbo attaque\n",
    "    if gollum.donneEtat() <= 0 : # Si gollum est mort\n",
    "        jeu_en_cours = False\n",
    "        print(f\"bilbo est vainqueur avec {bilbo.donneEtat()} points de vie\")\n",
    "        break  # On sort de la boucle\n",
    "        \n",
    "    bilbo.perdVie()  # Gollum attaque\n",
    "    if bilbo.donneEtat() <= 0 : # Si gilbo est mort\n",
    "        jeu_en_cours = False\n",
    "        print(f\"gollum est vainqueur avec {gollum.donneEtat()} points de vie\")\n",
    "        break\n",
    "        \n",
    "    print(f\"bilbo : {bilbo.donneEtat()} vies // gollum : {gollum.donneEtat()}\")\n",
    "    "
   ]
  },
  {
   "cell_type": "markdown",
   "metadata": {
    "colab_type": "text",
    "id": "CX6OFFLc_wRN"
   },
   "source": [
    "## <u>PROJET RPG</u> \n",
    "\n",
    "2/ On suppose désormais que :\n",
    "\n",
    "- Chaque créature a une probabilité de <u>rater un coup</u> : dans ce cas, elle ne blesse pas son adversaire.\n",
    "- Chaque créature a une probabilité de <u>réaliser un coup critique</u> : dans ce cas, elle blesse davantage son adversaire.\n",
    "- Chaque créature a aussi une probabilité <u>d'esquiver / parrer un coup adverse</u> : dans ce cas, elle ne prend pas de dégâts.\n",
    "\n",
    "a) <b>Regarder</b> la petite vidéo d'un combat dans Everquest (le troll, c'est moi :) ) ici : https://youtu.be/cCi97FGUsGM. \n",
    "Il faut surtout regarder l'affichage dans `Main Chat` qui correspond à l'exercice demandé. \n",
    "\n",
    "b) <b>Modifier</b> le programme suivant pour qu'il tienne compte de ses nouveaux paramètres.\n",
    "\n",
    "<u>Remarque</u> : il peut être judicieux d'utiliser un <b>dictionnaire</b> comme attribut."
   ]
  },
  {
   "cell_type": "code",
   "execution_count": null,
   "metadata": {
    "colab": {
     "base_uri": "https://localhost:8080/",
     "height": 35
    },
    "colab_type": "code",
    "executionInfo": {
     "elapsed": 489,
     "status": "ok",
     "timestamp": 1586188142682,
     "user": {
      "displayName": "nsi glassus",
      "photoUrl": "",
      "userId": "16422938971985642078"
     },
     "user_tz": -120
    },
    "id": "pzxRLaNQAx-t",
    "outputId": "fed29041-6dbd-4de8-91fe-85ab639abc44"
   },
   "outputs": [],
   "source": [
    "# Exemple de dictionnaire\n",
    "# Les valeurs des clés (sauf `vies`) sont des probabilités\n",
    "etats = {\"vies\" : 30, \"echec\" : 0.05, \"critique\" : 0.10, \"parade\" : 0.35, \"esquive\" : 0.15} "
   ]
  },
  {
   "cell_type": "code",
   "execution_count": null,
   "metadata": {
    "colab": {
     "base_uri": "https://localhost:8080/",
     "height": 35
    },
    "colab_type": "code",
    "executionInfo": {
     "elapsed": 589,
     "status": "ok",
     "timestamp": 1586185431578,
     "user": {
      "displayName": "nsi glassus",
      "photoUrl": "",
      "userId": "16422938971985642078"
     },
     "user_tz": -120
    },
    "id": "1ji_MAGSA8Nw",
    "outputId": "3bbc18e5-3417-4332-f101-e961cab22270"
   },
   "outputs": [],
   "source": [
    "#### MODIFIER CE PROGRAMME ####\n",
    "\n",
    "import random\n",
    "\n",
    "class Personnage:\n",
    "    def __init__(self, nbreDeVie):\n",
    "        self.vie=nbreDeVie\n",
    "        \n",
    "    def donneEtat (self):\n",
    "        return self.vie\n",
    "    \n",
    "    def perdVie (self):\n",
    "        hasard = random.random() # Donne une valeur aléatoire entre 0 et 1\n",
    "        if hasard > 0.5: \n",
    "            nbPoint = 1\n",
    "        else :\n",
    "            nbPoint = 2\n",
    "            \n",
    "        self.vie -= nbPoint\n",
    "          \n",
    "        \n",
    "bilbo = Personnage(25)\n",
    "gollum = Personnage(20)\n",
    "\n",
    "jeu_en_cours = True\n",
    "\n",
    "while(jeu_en_cours) : # Boucle tant que le jeu est en cours\n",
    "    gollum.perdVie()  # bilbo attaque\n",
    "    if gollum.donneEtat() <= 0 : # Si gollum est mort\n",
    "        jeu_en_cours = False\n",
    "        print(f\"bilbo est vainqueur avec {bilbo.donneEtat()} points de vie\")\n",
    "        break  # On sort de la boucle\n",
    "        \n",
    "    bilbo.perdVie()  # Gollum attaque\n",
    "    if bilbo.donneEtat() <= 0 : # Si bilbo est mort\n",
    "        jeu_en_cours = False\n",
    "        print(f\"gollum est vainqueur avec {gollum.donneEtat()} points de vie\")\n",
    "        break\n",
    "        \n",
    "    print(f\"bilbo : {bilbo.donneEtat()} vies // gollum : {gollum.donneEtat()}\")\n",
    "    "
   ]
  },
  {
   "cell_type": "markdown",
   "metadata": {},
   "source": [
    "### <u>Appel au professeur</u>"
   ]
  },
  {
   "cell_type": "markdown",
   "metadata": {},
   "source": [
    "<u>Remarques</u> :\n",
    "- Ce programme pourra être réutilisé dans la gestion des combats joueurs / monstres.\n",
    "- Pour plus de réalisme, il y aura une gestion de la fréquence des attaques par la bibliothèque `Pygame` (appel de fonctions toutes les X millisecondes notamment).\n",
    "- On peut ajouter bien d'autres critères : double attaque, riposte etc. en fonction des souhaits."
   ]
  }
 ],
 "metadata": {
  "colab": {
   "authorship_tag": "ABX9TyOI6CfmBaF2V302HILyPtuI",
   "collapsed_sections": [],
   "name": "PROF_06_Algorithmes_gloutons.ipynb",
   "provenance": []
  },
  "kernelspec": {
   "display_name": "Python 3",
   "language": "python",
   "name": "python3"
  },
  "language_info": {
   "codemirror_mode": {
    "name": "ipython",
    "version": 3
   },
   "file_extension": ".py",
   "mimetype": "text/x-python",
   "name": "python",
   "nbconvert_exporter": "python",
   "pygments_lexer": "ipython3",
   "version": "3.8.5"
  },
  "toc": {
   "base_numbering": 1,
   "nav_menu": {},
   "number_sections": false,
   "sideBar": true,
   "skip_h1_title": false,
   "title_cell": "Table of Contents",
   "title_sidebar": "Contents",
   "toc_cell": false,
   "toc_position": {},
   "toc_section_display": true,
   "toc_window_display": true
  }
 },
 "nbformat": 4,
 "nbformat_minor": 1
}
