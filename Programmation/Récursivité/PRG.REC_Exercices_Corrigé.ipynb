{
 "cells": [
  {
   "cell_type": "markdown",
   "metadata": {
    "id": "dGNQCbpqMhmn"
   },
   "source": [
    "## Exercice 1\n",
    "Écrire une fonction récursive ```puissance(x,n)``` qui calcule le nombre $x^n$."
   ]
  },
  {
   "cell_type": "code",
   "execution_count": null,
   "metadata": {
    "id": "MvsA5N4hPaLn"
   },
   "outputs": [],
   "source": [
    "def puissance(x,n):\n",
    "    if n == 0 :\n",
    "        return 1\n",
    "    else :\n",
    "        return x*puissance(x,n-1)"
   ]
  },
  {
   "cell_type": "code",
   "execution_count": null,
   "metadata": {
    "colab": {
     "base_uri": "https://localhost:8080/",
     "height": 34
    },
    "id": "ndYiurtuMhmq",
    "outputId": "b4c0a3f6-2d6f-4e6b-8471-6f0a2db0e9b8"
   },
   "outputs": [],
   "source": [
    "puissance(2,10)"
   ]
  },
  {
   "cell_type": "markdown",
   "metadata": {
    "id": "BaNdVEm-Mhm2"
   },
   "source": [
    "## Exercice 2\n",
    "Écrire une fonction récursive ```boucle(i,k)``` qui affiche les entiers entre ```i``` et ```k```. Par exemple, ```boucle(2,5)``` doit afficher ```2 3 4 5```"
   ]
  },
  {
   "cell_type": "code",
   "execution_count": null,
   "metadata": {
    "id": "Bjcp81EXMhm9"
   },
   "outputs": [],
   "source": [
    "def boucle(i,k):\n",
    "    if i == k :\n",
    "        print(i)\n",
    "    else :\n",
    "        print(i)\n",
    "        boucle(i+1,k)"
   ]
  },
  {
   "cell_type": "code",
   "execution_count": null,
   "metadata": {
    "colab": {
     "base_uri": "https://localhost:8080/",
     "height": 89
    },
    "id": "x7vS9QxU39Ur",
    "outputId": "6a2dcefe-f223-4f00-dc28-7f48d47fac7a"
   },
   "outputs": [],
   "source": [
    "boucle(2,5)"
   ]
  },
  {
   "cell_type": "code",
   "execution_count": null,
   "metadata": {
    "id": "zxMAMlXX392B"
   },
   "outputs": [],
   "source": []
  },
  {
   "cell_type": "markdown",
   "metadata": {
    "id": "TGLb--xOMhnF"
   },
   "source": [
    "## Exercice 3\n",
    "On rappelle que le PGCD (plus grand diviseur commun de deux nombres) vérifie la propriété suivante : si la division euclidienne de $a$ par $b$ s'écrit $a = b \\times q + r$, alors $pgcd(a,b)=pgcd(b,r)$. \n",
    "\n",
    "Cette propriété est à la base de l'algorithme d'Euclide\n",
    "\n",
    "Exemple : $pgcd(24,18)=pgcd(18,6)=pgcd(6,0)$, donc $pgcd(24,18)=6$\n",
    "\n",
    "Écrire un algorithme récursif ```pgcd(a,b)```."
   ]
  },
  {
   "cell_type": "code",
   "execution_count": null,
   "metadata": {
    "colab": {
     "base_uri": "https://localhost:8080/",
     "height": 52
    },
    "id": "2aYdHPHvMhnI",
    "outputId": "53521249-77d9-4c1c-fb83-8e8d7aa32818"
   },
   "outputs": [],
   "source": [
    "def pgcd(a,b):\n",
    "    if b == 0 :\n",
    "        return a\n",
    "    else :\n",
    "        return pgcd(b,a%b)\n",
    "\n",
    "# Méthode plus concise\n",
    "def pgcd2(a,b):\n",
    "      return a if b == 0 else pgcd2(b,a%b)\n",
    "\n",
    "\n",
    "print(pgcd(18,12))\n",
    "print(pgcd2(18,12))"
   ]
  },
  {
   "cell_type": "markdown",
   "metadata": {
    "id": "2F-MmoPiMhnO"
   },
   "source": [
    "## Exercice 4\n",
    "La conjecture de Syracuse (ou de Collatz) postule ceci :  \n",
    "\n",
    "*Prenons un nombre $n$ : si $n$ est pair, on le divise par 2, sinon on le multiplie par 3 puis on ajoute 1. On recommence cette opération tant que possible. Au bout d'un certain temps, on finira toujours par tomber sur le nombre 1.*\n",
    "\n",
    "Proposer un programme récursif ```syracuse(n)``` écrivant tous les termes de la suite de Syracuse, s'arrêtant (on l'espère) à la valeur 1."
   ]
  },
  {
   "cell_type": "code",
   "execution_count": null,
   "metadata": {
    "id": "jO1jarZ3MhnQ"
   },
   "outputs": [],
   "source": [
    "def syracuse(n):\n",
    "    print(n)\n",
    "    if n == 1 :\n",
    "        return None\n",
    "    else :\n",
    "        if n % 2 == 0 :\n",
    "            return syracuse(n//2)\n",
    "        else :\n",
    "            return syracuse(3*n+1)"
   ]
  },
  {
   "cell_type": "code",
   "execution_count": null,
   "metadata": {
    "colab": {
     "base_uri": "https://localhost:8080/",
     "height": 330
    },
    "id": "2pT6qqligwZC",
    "outputId": "e273dab2-6ad4-4e4f-d761-64788a6c49f6"
   },
   "outputs": [],
   "source": [
    "syracuse(14)"
   ]
  },
  {
   "cell_type": "markdown",
   "metadata": {
    "id": "_ugjRbZGMhnh"
   },
   "source": [
    "## Exercice 5\n",
    "Proposer une nouvelle fonction récursive ```puissance(x,n)``` qui calcule le nombre $x^n$. Pour optimiser la fonction déjà construite à l'exercice 1, utiliser le fait que :\n",
    "- si $n$ est pair, $a^n=(a \\times a)^{n/2}$\n",
    "- sinon $a^n=a \\times (a \\times a)^{(n-1)/2}$"
   ]
  },
  {
   "cell_type": "code",
   "execution_count": null,
   "metadata": {
    "id": "-qdzcakQMhnj"
   },
   "outputs": [],
   "source": [
    "def puissance(x,n):\n",
    "    if n == 0 :\n",
    "        return 1\n",
    "    else :\n",
    "        if not n % 2 :\n",
    "            return puissance(x*x,n//2)\n",
    "        else :\n",
    "            return x*puissance(x*x,(n-1)//2)"
   ]
  },
  {
   "cell_type": "code",
   "execution_count": null,
   "metadata": {
    "colab": {
     "base_uri": "https://localhost:8080/",
     "height": 35
    },
    "id": "5QyJUDxc10kN",
    "outputId": "0ea51ef6-8859-4164-9165-2aa8e503b1e9"
   },
   "outputs": [],
   "source": [
    "puissance(10,3)"
   ]
  },
  {
   "cell_type": "code",
   "execution_count": null,
   "metadata": {
    "colab": {
     "base_uri": "https://localhost:8080/",
     "height": 35
    },
    "id": "5_ZhZZsA14AB",
    "outputId": "86e95ccb-f7a7-4b1f-c402-2ccc89495001"
   },
   "outputs": [],
   "source": [
    "puissance(10,6)"
   ]
  },
  {
   "cell_type": "markdown",
   "metadata": {
    "id": "jCafsAS7Mhnp"
   },
   "source": [
    "## Exercice 6\n",
    "Écrire un algorithme récursif ```recherche(lst,m)``` qui recherche la présence de la valeur ```m``` dans une liste triée ```lst```. Cette fonction doit renvoyer un booléen."
   ]
  },
  {
   "cell_type": "code",
   "execution_count": null,
   "metadata": {
    "id": "YExGF0dKMhnq"
   },
   "outputs": [],
   "source": [
    "lst=[5,6,9,12,17]\n",
    "lst1=[5,6,9,18,27]"
   ]
  },
  {
   "cell_type": "code",
   "execution_count": null,
   "metadata": {
    "colab": {
     "base_uri": "https://localhost:8080/",
     "height": 107
    },
    "id": "mFkiD6JYJ3DX",
    "outputId": "5b0c916e-e40a-4021-9480-2ff15646ceb7"
   },
   "outputs": [],
   "source": [
    "def recherche(lst,m):\n",
    "    print(lst) # pour voir la taille de la liste diminuer\n",
    "    if len(lst) == 1 :  # Cas de base\n",
    "        if lst[0] == m :\n",
    "            return True\n",
    "        else :\n",
    "            return False\n",
    "    else :              # Cas récursif\n",
    "        mid = len(lst)//2\n",
    "        if lst[mid] > m :\n",
    "            return recherche(lst[:mid],m)\n",
    "        else :\n",
    "            return recherche(lst[mid:],m)\n",
    "\n",
    "        lst=[5,6,9,12,17]\n",
    "\n",
    "        \n",
    "# Jeu de test\n",
    "print(recherche(lst,18))   # Attendu : True\n",
    "print(recherche(lst1,18))  # Attendu : False"
   ]
  }
 ],
 "metadata": {
  "colab": {
   "collapsed_sections": [],
   "name": "Copie de 2_Exercices_recursivite.ipynb",
   "provenance": []
  },
  "kernelspec": {
   "display_name": "Python 3",
   "language": "python",
   "name": "python3"
  },
  "language_info": {
   "codemirror_mode": {
    "name": "ipython",
    "version": 3
   },
   "file_extension": ".py",
   "mimetype": "text/x-python",
   "name": "python",
   "nbconvert_exporter": "python",
   "pygments_lexer": "ipython3",
   "version": "3.8.5"
  }
 },
 "nbformat": 4,
 "nbformat_minor": 1
}
