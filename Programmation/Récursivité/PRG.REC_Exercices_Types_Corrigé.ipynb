{
 "cells": [
  {
   "cell_type": "markdown",
   "metadata": {},
   "source": [
    "# PRG.REC_Exercices_Types_Corrigé\n",
    "\n"
   ]
  },
  {
   "cell_type": "markdown",
   "metadata": {},
   "source": [
    "## <u>Exercice 1</u> : maximum d'une liste"
   ]
  },
  {
   "cell_type": "code",
   "execution_count": null,
   "metadata": {},
   "outputs": [],
   "source": [
    "from random import randint\n",
    "\n",
    "# Permet de générer une liste de 20 nombres aléatoires\n",
    "L = [ randint(-100,100) for i in range(20)]\n",
    "print(L) # Affiche la liste\n",
    "\n",
    "\n",
    "\n",
    "#####################################################\n",
    "################ A COMPLETER ########################\n",
    "#####################################################\n",
    "# Renvoie le maximum entre les variables `a` et `b`\n",
    "def maximum(a,b) :\n",
    "    return a if a > b else b # Version concise :)\n",
    "    \n",
    "    \n",
    "    \n",
    "#####################################################\n",
    "################ A COMPLETER ########################\n",
    "#####################################################    \n",
    "def maximum_liste(L) :\n",
    "    # Cas de base\n",
    "    if len(L) == 1 :\n",
    "        return L[0]\n",
    "    else :\n",
    "        return maximum(L[0],maximum_liste(L[1:]))\n",
    "    \n",
    "    \n",
    "\n",
    "# Jeu de test\n",
    "print(maximum_liste(L))\n",
    "print(max(L))  # Attendu : obtenir les deux mêmes valeurs\n",
    "    "
   ]
  },
  {
   "cell_type": "markdown",
   "metadata": {},
   "source": [
    "## <u>Exercice 2</u> : palindrome"
   ]
  },
  {
   "cell_type": "code",
   "execution_count": null,
   "metadata": {},
   "outputs": [],
   "source": [
    "def palindrome(mot) :\n",
    "    #########################################\n",
    "    ############ A ECRIRE ###################\n",
    "    # Cas de base\n",
    "    if len(mot) == 0 or len(mot) == 1 :\n",
    "        return True\n",
    "    \n",
    "    ##########################################\n",
    "    \n",
    "    ##########################################\n",
    "    ############# A ECRIRE ###################\n",
    "    # Cas général\n",
    "    else :\n",
    "        # On renvoie `False` si la première/dernière\n",
    "        # ne sont pas égales.\n",
    "        if mot[0] != mot[len(mot)-1] :\n",
    "            return False\n",
    "        \n",
    "        return palindrome(mot[1:len(mot)-1])\n",
    "    ##########################################\n",
    "    \n",
    "\n",
    "# Jeu de tests\n",
    "print(palindrome(\"radar\"))  # Attendu : True\n",
    "print(palindrome(\"blob\"))   # Attendu : False"
   ]
  },
  {
   "cell_type": "markdown",
   "metadata": {},
   "source": [
    "## <u>Exercice 3</u> (*) : anagramme"
   ]
  },
  {
   "cell_type": "code",
   "execution_count": 4,
   "metadata": {},
   "outputs": [
    {
     "name": "stdout",
     "output_type": "stream",
     "text": [
      "['abc', 'bac', 'bca', 'acb', 'cab', 'cba']\n"
     ]
    }
   ],
   "source": [
    "def anagramme(mot) :\n",
    "    #########################################\n",
    "    ############ A ECRIRE ###################\n",
    "    # Cas de base\n",
    "    if len(mot) <= 1 :\n",
    "        return mot\n",
    "    \n",
    "    ##########################################\n",
    "    \n",
    "    ##########################################\n",
    "    ############# A ECRIRE ###################\n",
    "    # Cas général\n",
    "    else :\n",
    "        list_anags = []\n",
    "        # Pour chaque anagramme d'un mot sans sa première lettre.\n",
    "        for anag in anagramme(mot[1:]) :\n",
    "            # On place la première lettre du mot à toutes les places\n",
    "            # possibles pour obtenir les anagrammes.\n",
    "            for k in range(len(mot)) :\n",
    "                nouv_anag = anag[:k] + mot[0] + anag[k:]\n",
    "                list_anags.append(nouv_anag)\n",
    "                \n",
    "        return list_anags\n",
    "        \n",
    "    ##########################################\n",
    "    \n",
    "# Jeu de tests    \n",
    "print(anagramme(\"abc\"))    # Attendu : ['abc', 'bac', 'bca', 'acb', 'cab', 'cba']"
   ]
  },
  {
   "cell_type": "markdown",
   "metadata": {},
   "source": [
    "## <u>Exercice 4</u> : fractales"
   ]
  },
  {
   "cell_type": "code",
   "execution_count": 11,
   "metadata": {},
   "outputs": [
    {
     "name": "stdout",
     "output_type": "stream",
     "text": [
      "None\n"
     ]
    }
   ],
   "source": [
    "from turtle import *\n",
    "\n",
    "\n",
    "def motif(n,l) :\n",
    "    #########################################\n",
    "    ############ A ECRIRE ###################\n",
    "    # Cas de base\n",
    "    if n == 0 :\n",
    "        forward(l) # Trace le segment.\n",
    "    \n",
    "    ##########################################\n",
    "    ############# A ECRIRE ###################\n",
    "    # Cas général\n",
    "    else :\n",
    "        # Chaque segment est redécomposé en 1 motif.\n",
    "        motif(n-1,l//3)\n",
    "        left(60)  \n",
    "        motif(n-1,l//3)\n",
    "        right(120)  # Attention à la rotation !\n",
    "        motif(n-1,l//3)\n",
    "        left(60)\n",
    "        motif(n-1,l//3)\n",
    "        \n",
    "    \n",
    "    return None # Facultatif\n",
    "    ##########################################\n",
    "\n",
    "\n",
    "def koch(n,l) :\n",
    "    for k in range(3) :\n",
    "        motif(n,l)\n",
    "        # Permet de se placer correctement pour le motif suivant.\n",
    "        right(120)\n",
    "        \n",
    "    return None # Facultatif \n",
    "\n",
    "\n",
    "\n",
    "# Jeu de tests\n",
    "print(koch(4,250))\n",
    "exitonclick() # Permet de quitter \"proprement\" le programme. Enfin en principe."
   ]
  },
  {
   "cell_type": "code",
   "execution_count": null,
   "metadata": {},
   "outputs": [],
   "source": []
  }
 ],
 "metadata": {
  "kernelspec": {
   "display_name": "Python 3",
   "language": "python",
   "name": "python3"
  },
  "language_info": {
   "codemirror_mode": {
    "name": "ipython",
    "version": 3
   },
   "file_extension": ".py",
   "mimetype": "text/x-python",
   "name": "python",
   "nbconvert_exporter": "python",
   "pygments_lexer": "ipython3",
   "version": "3.8.5"
  }
 },
 "nbformat": 4,
 "nbformat_minor": 4
}
