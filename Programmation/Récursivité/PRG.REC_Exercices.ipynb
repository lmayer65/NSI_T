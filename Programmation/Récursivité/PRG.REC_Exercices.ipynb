{
 "cells": [
  {
   "cell_type": "markdown",
   "metadata": {},
   "source": [
    "# PRG.REC_Exercices\n",
    "\n",
    "<u><i>Source</i></u> : G.Lassus, lycée François Mauriac"
   ]
  },
  {
   "cell_type": "markdown",
   "metadata": {},
   "source": [
    "## <u>Exercice 1</u>\n",
    "Écrire une fonction récursive ```puissance(x,n)``` qui calcule le nombre $x^n$."
   ]
  },
  {
   "cell_type": "code",
   "execution_count": null,
   "metadata": {},
   "outputs": [],
   "source": []
  },
  {
   "cell_type": "markdown",
   "metadata": {},
   "source": [
    "## <u>Exercice 2</u>\n",
    "Écrire une fonction récursive ```boucle(i,k)``` qui affiche les entiers entre ```i``` et ```k```. Par exemple, ```boucle(2,5)``` doit afficher ```2 3 4 5```"
   ]
  },
  {
   "cell_type": "code",
   "execution_count": null,
   "metadata": {},
   "outputs": [],
   "source": []
  },
  {
   "cell_type": "markdown",
   "metadata": {},
   "source": [
    "## <u>Exercice 3</u>\n",
    "On rappelle que le PGCD (plus grand diviseur commun de deux nombres) vérifie la propriété suivante : si la division euclidienne de $a$ par $b$ s'écrit $a = b \\times q + r$, alors $pgcd(a,b)=pgcd(b,r)$. \n",
    "\n",
    "Cette propriété est à la base de l'algorithme d'Euclide\n",
    "\n",
    "Exemple : $pgcd(24,18)=pgcd(18,6)=pgcd(6,0)$, donc $pgcd(24,18)=6$\n",
    "\n",
    "Écrire un algorithme récursif ```pgcd(a,b)```."
   ]
  },
  {
   "cell_type": "code",
   "execution_count": null,
   "metadata": {},
   "outputs": [],
   "source": []
  },
  {
   "cell_type": "markdown",
   "metadata": {},
   "source": [
    "## <u>Exercice 4</u>\n",
    "La conjecture de Syracuse (ou de Collatz) postule ceci :  \n",
    "\n",
    "*Prenons un nombre $n$ : si $n$ est pair, on le divise par 2, sinon on le multiplie par 3 puis on ajoute 1. On recommence cette opération tant que possible. Au bout d'un certain temps, on finira toujours par tomber sur le nombre 1.*\n",
    "\n",
    "Proposer un programme récursif ```syracuse(n)``` écrivant tous les termes de la suite de Syracuse, s'arrêtant (on l'espère) à la valeur 1."
   ]
  },
  {
   "cell_type": "code",
   "execution_count": null,
   "metadata": {},
   "outputs": [],
   "source": []
  },
  {
   "cell_type": "markdown",
   "metadata": {},
   "source": [
    "## <u>Exercice 5</u>\n",
    "Proposer une nouvelle fonction récursive ```puissance(x,n)``` qui calcule le nombre $x^n$. Pour optimiser la fonction déjà construite à l'exercice 1, utiliser le fait que :\n",
    "- si $n$ est pair, $a^n=(a \\times a)^{n/2}$\n",
    "- sinon $a^n=a \\times (a \\times a)^{(n-1)/2}$"
   ]
  },
  {
   "cell_type": "code",
   "execution_count": null,
   "metadata": {},
   "outputs": [],
   "source": []
  },
  {
   "cell_type": "markdown",
   "metadata": {},
   "source": [
    "## <u>Exercice 6</u> (*)\n",
    "Écrire un algorithme récursif ```recherche(lst,m)``` qui recherche la présence de la valeur ```m``` dans une liste triée ```lst```. Cette fonction doit renvoyer un booléen."
   ]
  },
  {
   "cell_type": "code",
   "execution_count": null,
   "metadata": {},
   "outputs": [],
   "source": [
    "# Rappels pour la construction de sous-listes\n",
    "lst = [3,5,8,10,23,29]\n",
    "lst1 = lst[:3] # Sous-liste avec les 3 premiers éléments\n",
    "lst2 = lst[3:] # Sous-liste à partir du 4ème élément\n",
    "lst3 = lst[:]  # Copie de la liste en entier\n",
    "\n",
    "print(lst1)\n",
    "print(lst2)\n",
    "print(lst3)"
   ]
  },
  {
   "cell_type": "code",
   "execution_count": null,
   "metadata": {},
   "outputs": [],
   "source": []
  }
 ],
 "metadata": {
  "kernelspec": {
   "display_name": "Python 3",
   "language": "python",
   "name": "python3"
  },
  "language_info": {
   "codemirror_mode": {
    "name": "ipython",
    "version": 3
   },
   "file_extension": ".py",
   "mimetype": "text/x-python",
   "name": "python",
   "nbconvert_exporter": "python",
   "pygments_lexer": "ipython3",
   "version": "3.8.5"
  }
 },
 "nbformat": 4,
 "nbformat_minor": 4
}
