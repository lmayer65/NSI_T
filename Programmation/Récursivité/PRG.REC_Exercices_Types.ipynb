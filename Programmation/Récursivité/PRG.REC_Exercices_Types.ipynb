{
 "cells": [
  {
   "cell_type": "markdown",
   "metadata": {},
   "source": [
    "# PRG.REC_Exercices_Types"
   ]
  },
  {
   "cell_type": "markdown",
   "metadata": {},
   "source": [
    "## <u>Exercice 1</u> : maximum d'une liste\n",
    "\n",
    "On considère une liste de nombre <u>non ordonnée</u> et on souhaite trouver le plus grand nombre.\n",
    "<b>Compléter</b> le programme suivant :"
   ]
  },
  {
   "cell_type": "code",
   "execution_count": null,
   "metadata": {},
   "outputs": [],
   "source": [
    "from random import randint\n",
    "\n",
    "# Permet de générer une liste de 20 nombres aléatoires\n",
    "L = [ randint(-100,100) for i in range(20)]\n",
    "print(L) # Affiche la liste\n",
    "\n",
    "\n",
    "\n",
    "#####################################################\n",
    "################### A ECRIRE ########################\n",
    "# Renvoie le maximum entre les valeurs des variables `a` et `b`\n",
    "def maximum(a,b) :\n",
    "    \n",
    "    \n",
    "#####################################################    \n",
    "    \n",
    "    \n",
    "    \n",
    "    \n",
    "#####################################################\n",
    "################ A COMPLETER ########################\n",
    "#####################################################    \n",
    "def maximum_liste(L) :\n",
    "    # Cas de base\n",
    "    if ... :\n",
    "        return ...\n",
    "    \n",
    "    else :\n",
    "        return maximum(... , ...)\n",
    "    \n",
    "\n",
    "# Jeu de test\n",
    "print(maximum_liste(L))\n",
    "print(max(L))  # Attendu : obtenir les deux mêmes valeurs"
   ]
  },
  {
   "cell_type": "markdown",
   "metadata": {},
   "source": [
    "## <u>Exercice 2</u> : palindrome\n",
    "\n",
    "On appelle palindrome un mot qui se lit dans les deux sens comme « été » ou « radar ».\n",
    "<b>Écrire</b> une fonction récursive palindrome qui teste si un mot est un palindrome.\n",
    "- Entrée : Un mot (type str).\n",
    "- Sortie : Un booléen égal à `True` si le mot est un palindrome, `False` sinon.\n",
    "\n",
    "<u><b>Principe</b></u> :\n",
    "\n",
    "<i><u>Cas de base</u></i> :\n",
    "- si le mot est la chaîne vide, c’est un palindrome ;\n",
    "- si le mot ne contient qu’une seule lettre, c’est un palindrome.\n",
    "\n",
    "<i><u>Dans les autres cas</u></i> :\n",
    "- le mot est un palindrome si et seulement si la première et la dernière lettre sont\n",
    "égales et le mot tronqué de ses première et dernière lettres est un palindrome."
   ]
  },
  {
   "cell_type": "code",
   "execution_count": null,
   "metadata": {},
   "outputs": [],
   "source": [
    "def palindrome(mot) :\n",
    "    #########################################\n",
    "    ############ A ECRIRE ###################\n",
    "    # Cas de base\n",
    "    \n",
    "        \n",
    "    \n",
    "    ##########################################\n",
    "    \n",
    "    ##########################################\n",
    "    ############# A ECRIRE ###################\n",
    "    # Cas général\n",
    "    \n",
    "        \n",
    "        \n",
    "    ##########################################\n",
    "    \n",
    "\n",
    "# Jeu de tests\n",
    "print(palindrome(\"radar\"))  # Attendu : True\n",
    "print(palindrome(\"blob\"))   # Attendu : False\n"
   ]
  },
  {
   "cell_type": "markdown",
   "metadata": {},
   "source": [
    "## <u>Exercice 3</u> (*)  : anagramme\n",
    "\n",
    "L’<b>anagramme</b> d’un mot est un mot s’écrivant avec les mêmes lettres que le mot initial.\n",
    "\n",
    "Par exemple :\n",
    "\n",
    "- ironique et onirique ;\n",
    "- baignade et badinage ;\n",
    "- estival et vitales.\n",
    "\n",
    "Ici, nous ne demandons pas que les mots envisagés soient des mots du dictionnaire.\n",
    "Ainsi ‘abc’ et ‘bca’ sont deux anagrammes.\n",
    "\n",
    "<b>Ecrire</b> une fonction python récursive anagramme qui renvoie la liste des anagrammes\n",
    "d’un mot.\n",
    "\n",
    "• Entrée : Un mot (type str).\n",
    "\n",
    "• Sortie : La liste des anagrammes du mot.\n",
    "\n",
    "\n",
    "<b><u>Principe</u></b> :\n",
    "\n",
    "<i><u>Cas de base</u></i> :\n",
    "\n",
    "• si le mot est une chaîne vide, la liste des anagrammes est alors constituée de\n",
    "l’unique chaîne vide ;\n",
    "\n",
    "• si le mot n’a qu’une seule lettre, la liste de ses anagrammes ne contient qu’un seul\n",
    "élément : le mot lui-même.\n",
    "\n",
    "\n",
    "<i><u>Dans les autres cas</u></i> :\n",
    "\n",
    "• on peut définir la liste des anagrammes d’un mot à partir de la liste des\n",
    "anagrammes du mot obtenu en enlevant la première lettre, en plaçant cette\n",
    "première lettre successivement dans toutes les positions dans chaque élément de\n",
    "la liste.\n",
    "\n",
    "\n",
    "<b><u>Un exemple</u></b> : prenons le cas d’un mot de trois lettres : ‘abc’.\n",
    "\n",
    "• La première lettre est ‘a’.\n",
    "\n",
    "• Le mot obtenu en enlevant la première lettre est ‘bc’ et la liste des anagrammes de\n",
    "‘bc’ est [‘bc’,’cb’].\n",
    "\n",
    "• Pour constituer la liste des anagrammes de ‘abc’, il suffit de placer la lettre ‘a’ dans\n",
    "toutes les positions possibles des anagrammes de ‘bc’. On obtient la liste [‘abc’, ‘bac’,\n",
    "‘bca’, ‘acb’, ‘cab’, ‘cba’].\n",
    "\n",
    "• De la même façon, on obtiendra la liste de toutes les anagrammes du mot ‘dabc’ en\n",
    "glissant la lettre ‘d’ dans toutes les positions possibles de toutes les anagrammes de\n",
    "‘abc’."
   ]
  },
  {
   "cell_type": "code",
   "execution_count": null,
   "metadata": {},
   "outputs": [],
   "source": [
    "def anagramme(mot) :\n",
    "    #########################################\n",
    "    ############ A ECRIRE ###################\n",
    "    # Cas de base\n",
    "    \n",
    "        \n",
    "    \n",
    "    ##########################################\n",
    "    \n",
    "    ##########################################\n",
    "    ############# A ECRIRE ###################\n",
    "    # Cas général\n",
    "    # Tracer le motif ici donc 4 appels récursifs\n",
    "    # Attention à l'orientation de la tortue après chaque appel !!\n",
    "        \n",
    "        \n",
    "    ##########################################\n",
    "    \n",
    "\n",
    "# Jeu de tests\n",
    "print(anagramme(\"abc\"))  # Attendu : [‘abc’, ‘bac’, ‘bca’, ‘acb’, ‘cab’, ‘cba’]"
   ]
  },
  {
   "attachments": {
    "220px-Droite_Koch.gif": {
     "image/gif": "[encoded data removed]"
    }
   },
   "cell_type": "markdown",
   "metadata": {},
   "source": [
    "## <u>Exercice 4</u> (Groupe (*))  : fractale\n",
    "\n",
    "Une <b>fractale</b> est une image composé de motifs qui se répètent à des échelles / positions différentes. \n",
    "\n",
    "Un exemple simple est le <b>flocon de Von Koch</b>. Le principe est le suivant :\n",
    "\n",
    "On peut le créer à partir d'un segment, en modifiant <b>récursivement</b> chaque segment de droite de la façon suivante :\n",
    "\n",
    "- On divise le <b>segment de droite en trois segments de longueurs égales</b>.\n",
    "- On construit un <b>triangle équilatéral</b> ayant pour base le segment médian de la première étape.\n",
    "- On efface la base du triangle équilatéral précédent (<i>si elle a été tracée, ce qui ne sera pas le cas par la récursivité</i>).\n",
    "- On reprend à la première étape.\n",
    "\n",
    "![220px-Droite_Koch.gif](attachment:220px-Droite_Koch.gif)"
   ]
  },
  {
   "attachments": {
    "180px-Von_Koch_curve.gif": {
     "image/gif": "[encoded data removed]"
    }
   },
   "cell_type": "markdown",
   "metadata": {},
   "source": [
    "Les premières étapes ici du flocon de Von Koch :\n",
    "![180px-Von_Koch_curve.gif](attachment:180px-Von_Koch_curve.gif)"
   ]
  },
  {
   "cell_type": "markdown",
   "metadata": {},
   "source": [
    "<u>A noter</u> : L'étape zéro est tout simplement le tracé d'un triangle équilatéral. Par la suite, on y applique sur chaque segment le motif.\n",
    "\n",
    "\n",
    "<u>Remarque</u> : A partir de la deuxième étape, il s'agit de <b>perturbations</b> de plus en plus faibles de la figure de base à 6 branches : c'est un grand classique des <i>algorithmes de type <b>\"fractal\"</b></i>, tout comme l'algorithme de Perlin permettant la génération de terrain pseudo-aléatoires (voir NSI 1ère).\n"
   ]
  },
  {
   "cell_type": "markdown",
   "metadata": {},
   "source": [
    "<b><u>Programmation de cette fractale par récursivité</u></b> :\n",
    "\n",
    "- Définir le <u>nombre d'étapes</u> noté `n` (entre 0 (base) et 5 (trop long si plus :)) et la <u>longueur du segment de base</u> noté `l` (entre 100 et 300 environ).\n",
    "- Une fonction nommée `motif` pour l'application du <b>motif par récursivité</b> et le tracé du segment correspondant dans le <u>cas de base</u>. Elle prend en paramètres le `nombre d'étapes` (entre 0 et 5) et la `longueur du segment de base` (entre 150 et 300) mais renvoie `None` car il s'agit d'un tracé. <b>Attention à la rotation à appliquer entre chaque segment !</b>\n",
    "- Une autre fonction nommée `koch` appelant le nombre de fois nécessaire la fonction précédente et <b>tenant compte de la rotation à apporter entre chaque motif</b>. Elle a bien entendu les même paramètres que la fonction `motif` qu'elle lui transmettra. Là aussi, un renvoi de type `None`.\n"
   ]
  },
  {
   "cell_type": "markdown",
   "metadata": {},
   "source": [
    "<b><u>Quelques fonctions de la bibliothèque `turtle`</u></b>\n",
    "\n",
    "Cette bibliothèque permet d'effectuer des tracés en direct via un curseur appelé appelé <i>turtle</i> . Voici ici les fonctions nécessaires :\n",
    "\n",
    "- `forward(length)` : <b>trace un segment</b> de longueur `length`.\n",
    "- `left(ang)` : <b>tourne vers la <i>gauche</i> d'un angle de valeur `ang`en degrés</b> (sens trigonomérique ou anti-horaire).\n",
    "- `right(ang)` : <b>tourne vers la <i>droite</i> d'un angle de valeur `ang`en degrés </b>(sens anti-trigonomérique ou horaire)."
   ]
  },
  {
   "cell_type": "markdown",
   "metadata": {},
   "source": [
    "<u><b>Question</b></u> : <b>Compléter</b> le code suivant pour tracer les flocon de Von Kloch :"
   ]
  },
  {
   "cell_type": "code",
   "execution_count": null,
   "metadata": {},
   "outputs": [],
   "source": [
    "# Dessin du motif\n",
    "# n = niveau de profondeur / l = longueur du segment de base.\n",
    "def motif(n,l) :\n",
    "    # Cas de base \n",
    "    # Si on est stade `zéro` on trace le segment de longueur `l`.\n",
    "    if n == 0 :\n",
    "        forward(l)\n",
    "    \n",
    "    ###############################################################\n",
    "    ######################## A ECRIRE #############################\n",
    "    # Cas général\n",
    "    else :\n",
    "        \n",
    "        \n",
    "        \n",
    "    ###############################################################\n",
    "    \n",
    "    return None\n",
    "\n",
    "\n",
    "\n",
    "# Permet le tracé des trois motifs qui composent le triangle équilatéral.\n",
    "def koch(n,l) :\n",
    "    ###############################################################\n",
    "    ######################## A ECRIRE #############################\n",
    "    \n",
    "    \n",
    "    \n",
    "    \n",
    "    ###############################################################\n",
    "    \n",
    "    return None\n",
    "\n",
    "\n",
    "# Test\n",
    "# Premier argument : entre 0 et 5 / Second argument : entre 150 et 300\n",
    "print(koch(3,200))   # Attendu : un joli flocon type Von Koch !"
   ]
  }
 ],
 "metadata": {
  "kernelspec": {
   "display_name": "Python 3",
   "language": "python",
   "name": "python3"
  },
  "language_info": {
   "codemirror_mode": {
    "name": "ipython",
    "version": 3
   },
   "file_extension": ".py",
   "mimetype": "text/x-python",
   "name": "python",
   "nbconvert_exporter": "python",
   "pygments_lexer": "ipython3",
   "version": "3.8.5"
  }
 },
 "nbformat": 4,
 "nbformat_minor": 4
}
