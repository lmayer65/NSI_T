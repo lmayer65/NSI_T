{
 "cells": [
  {
   "cell_type": "markdown",
   "metadata": {},
   "source": [
    "# DDS_Structure de dictionnaire \n",
    "\n",
    "<u>Source</u> : G.Lassus, lycée Mauriac, Bordeaux"
   ]
  },
  {
   "cell_type": "markdown",
   "metadata": {},
   "source": [
    "## <u>I/ Notion de tableau associatif</u>\n",
    "Un **tableau associatif** est un type abstrait de données (au même titre que les listes, piles, files, vues précédemment). Ce type abstrait de données a la particularité de ne pas être totalement linéaire (ou «plat») puisqu'il associe des **valeurs** à des **clés**.  \n",
    "\n",
    "Il est habituellement muni des opérations suivantes :\n",
    "- ajout d'une nouvelle valeur associée à une nouvelle clé (on parlera de nouveau couple clé-valeur)\n",
    "- modification d'une valeur associée à une clé existante\n",
    "- suppression d'un couple clé-valeur\n",
    "- récupération de la valeur associée à une clé donnée.\n",
    "\n",
    "Un répertoire téléphonique est un exemple de tableau associatif :\n",
    "- les clés sont les noms\n",
    "- les valeurs sont les numéros de téléphone\n",
    "\n",
    "En Python, il existe nativement une structure de tableau associatif : le **dictionnaire**."
   ]
  },
  {
   "cell_type": "markdown",
   "metadata": {},
   "source": [
    "## <u>II/  Dictionnaire et temps d'accès aux données</u>"
   ]
  },
  {
   "cell_type": "markdown",
   "metadata": {},
   "source": [
    "La manipulation des dictionnaires a été vue en classe de Première. Les notions abordées sont rappelées à la fin de ce cours.  \n",
    "\n",
    "Rappelons pour l'instant qu'un dictionnaire est de la forme :"
   ]
  },
  {
   "cell_type": "code",
   "execution_count": null,
   "metadata": {},
   "outputs": [],
   "source": [
    "contacts = {\"Antoine\":\"0648653125\", \"Kylian\":\"0712369503\", \"Paul\":\"0613784596\"}"
   ]
  },
  {
   "cell_type": "markdown",
   "metadata": {},
   "source": [
    "et qu'on accède aux valeurs par la syntaxe :"
   ]
  },
  {
   "cell_type": "code",
   "execution_count": null,
   "metadata": {},
   "outputs": [],
   "source": [
    "contacts[\"Kylian\"] "
   ]
  },
  {
   "cell_type": "markdown",
   "metadata": {},
   "source": [
    "Intéressons-nous à la problématique du temps d'accès aux données, par une petite expérience permise par le module ```timeit``` de Python."
   ]
  },
  {
   "cell_type": "markdown",
   "metadata": {},
   "source": [
    "### 1/ Préparation des mesures\n",
    "\n",
    "Considérons deux fonctions ```fabrique_liste()``` et ```fabrique_dict()``` capables de fabriquer respectivement des listes et des dictionnaires de taille donnée en paramètre."
   ]
  },
  {
   "cell_type": "code",
   "execution_count": null,
   "metadata": {},
   "outputs": [],
   "source": [
    "def fabrique_liste(nb):\n",
    "    lst = [k**2 for k in range(nb)]\n",
    "    return lst\n",
    "\n",
    "def fabrique_dict(nb):\n",
    "    dct = {}\n",
    "    for k in fabrique_liste(nb):\n",
    "        dct[k] = 42\n",
    "    return dct"
   ]
  },
  {
   "cell_type": "code",
   "execution_count": null,
   "metadata": {},
   "outputs": [],
   "source": [
    "lst = fabrique_liste(10)\n",
    "dct = fabrique_dict(10)"
   ]
  },
  {
   "cell_type": "code",
   "execution_count": null,
   "metadata": {},
   "outputs": [],
   "source": [
    "lst"
   ]
  },
  {
   "cell_type": "code",
   "execution_count": null,
   "metadata": {},
   "outputs": [],
   "source": [
    "dct"
   ]
  },
  {
   "cell_type": "markdown",
   "metadata": {},
   "source": [
    "Le contenu de ces listes ou dictionnaires n'a pas grand intérêt. Dans nos mesures, on y cherchera une valeur qui n'y figure pas : la chaîne de caractères ```\"a\"```. On dit qu'on se place dans *le pire des cas*."
   ]
  },
  {
   "cell_type": "markdown",
   "metadata": {},
   "source": [
    "### <u>2/ Mesures des temps de recherche</u>\n"
   ]
  },
  {
   "cell_type": "markdown",
   "metadata": {},
   "source": [
    "#### a) Temps de recherche pour les listes\n",
    "\n",
    "\n",
    "- avec 10 valeurs :"
   ]
  },
  {
   "cell_type": "code",
   "execution_count": null,
   "metadata": {},
   "outputs": [],
   "source": [
    "lst = fabrique_liste(10)"
   ]
  },
  {
   "cell_type": "code",
   "execution_count": null,
   "metadata": {},
   "outputs": [],
   "source": [
    "%timeit \"a\" in lst"
   ]
  },
  {
   "cell_type": "markdown",
   "metadata": {},
   "source": [
    "Nous sommes donc à l'ordre de grandeur $100 \\times 10^{-9}$, soit $10^{-7}$ secondes."
   ]
  },
  {
   "cell_type": "markdown",
   "metadata": {},
   "source": [
    "- avec 100 valeurs :"
   ]
  },
  {
   "cell_type": "code",
   "execution_count": null,
   "metadata": {},
   "outputs": [],
   "source": [
    "lst = fabrique_liste(100)"
   ]
  },
  {
   "cell_type": "code",
   "execution_count": null,
   "metadata": {},
   "outputs": [],
   "source": [
    "%timeit \"a\" in lst"
   ]
  },
  {
   "cell_type": "markdown",
   "metadata": {},
   "source": [
    "Nous sommes donc à l'ordre de grandeur $1 \\times 10^{-6}$, soit $10^{-6}$ secondes."
   ]
  },
  {
   "cell_type": "markdown",
   "metadata": {},
   "source": [
    "- avec 1000 valeurs :"
   ]
  },
  {
   "cell_type": "code",
   "execution_count": null,
   "metadata": {},
   "outputs": [],
   "source": [
    "lst = fabrique_liste(1000)"
   ]
  },
  {
   "cell_type": "code",
   "execution_count": null,
   "metadata": {},
   "outputs": [],
   "source": [
    "%timeit \"a\" in lst"
   ]
  },
  {
   "cell_type": "markdown",
   "metadata": {},
   "source": [
    "Nous sommes donc à l'ordre de grandeur $10 \\times 10^{-6}$, soit $10^{-5}$ secondes."
   ]
  },
  {
   "cell_type": "markdown",
   "metadata": {},
   "source": [
    "**Conclusion** : le temps de recherche d'une valeur dans une **liste** est directement **proportionnel** à la longueur de cette liste. On dit qu'il est linéaire, ou bien qu'il est en $O(n)$."
   ]
  },
  {
   "cell_type": "markdown",
   "metadata": {},
   "source": [
    "#### b) Temps de recherche pour les dictionnaires\n",
    "On va rechercher si ```\"a\"``` est une clé valide pour notre dictionnaire.\n",
    "\n",
    "- avec 10 valeurs :"
   ]
  },
  {
   "cell_type": "code",
   "execution_count": null,
   "metadata": {},
   "outputs": [],
   "source": [
    "dct = fabrique_dict(10)"
   ]
  },
  {
   "cell_type": "code",
   "execution_count": null,
   "metadata": {},
   "outputs": [],
   "source": [
    "%timeit \"a\" in dct"
   ]
  },
  {
   "cell_type": "markdown",
   "metadata": {},
   "source": [
    "Nous sommes donc à l'ordre de grandeur $10 \\times 10^{-9}$, soit $10^{-8}$ secondes."
   ]
  },
  {
   "cell_type": "markdown",
   "metadata": {},
   "source": [
    "- avec 100 valeurs :"
   ]
  },
  {
   "cell_type": "code",
   "execution_count": null,
   "metadata": {},
   "outputs": [],
   "source": [
    "dct = fabrique_dict(100)"
   ]
  },
  {
   "cell_type": "code",
   "execution_count": null,
   "metadata": {},
   "outputs": [],
   "source": [
    "%timeit \"a\" in dct"
   ]
  },
  {
   "cell_type": "markdown",
   "metadata": {},
   "source": [
    "Nous sommes donc toujours à l'ordre de grandeur $10 \\times 10^{-9}$, soit $10^{-8}$ secondes."
   ]
  },
  {
   "cell_type": "markdown",
   "metadata": {},
   "source": [
    "- avec 10000 valeurs :"
   ]
  },
  {
   "cell_type": "code",
   "execution_count": null,
   "metadata": {},
   "outputs": [],
   "source": [
    "dct = fabrique_dict(10000)"
   ]
  },
  {
   "cell_type": "code",
   "execution_count": null,
   "metadata": {},
   "outputs": [],
   "source": [
    "%timeit \"a\" in dct"
   ]
  },
  {
   "cell_type": "markdown",
   "metadata": {},
   "source": [
    "On retrouve avec 10000 valeurs pratiquement le même temps de recherche qu'avec 10 valeurs.\n",
    "\n",
    "On remarque donc que le temps moyen est remarquablement **constant**. Il ne dépend pas du nombre d'éléments du dictionnaire dans lequel on cherche. On dit qu'il est en $O(1)$."
   ]
  },
  {
   "cell_type": "markdown",
   "metadata": {},
   "source": [
    ">Il y a donc une différence fondamentale à connaître entre les temps de recherche d'un éléments à l'intérieur :\n",
    "- d'une **liste** : temps **proportionnel** à la taille de la liste.\n",
    "- d'un **dictionnaire** : temps **constant**, indépendant de la taille de la liste."
   ]
  },
  {
   "attachments": {
    "iso.png": {
     "image/png": "[encoded data removed]"
    }
   },
   "cell_type": "markdown",
   "metadata": {},
   "source": [
    "### 3/ Fonctions de hachage  *(hors-programme)*\n",
    "Tout ce qui suit est hors-programme de Terminale, mais permet de comprendre comment Python arrive à faire de la recherche en temps constant quelle que soit la taille du dictionnaire.\n",
    "\n",
    "Il est important de se rappeler qu'un dictionnaire n'est pas **ordonné** au sens d'une liste triée (contrairement à l'objet «dictionnaire» de la vie courante, où chaque mot est classé suivant l'ordre alphabétique). \n",
    "\n",
    "On n'accède pas à une valeur suivant sa position, mais suivant sa clé.\n",
    "\n",
    "Dans une liste, lorsqu'on veut savoir si un élément appartient à une liste (problème de la *recherche d'élément*), il n'y a pas (dans le cas général) de meilleure méthode que le parcours exhaustif de tous les éléments de la liste jusqu'à (éventuellement) trouver la valeur cherchée.\n",
    "\n",
    "Dans un dictionnaire, on pourrait s'imaginer qu'il va falloir parcourir toutes les clés et regarder les valeurs correspondantes. Il n'en est rien.  \n",
    "Pour comprendre cela nous allons faire un petit détour par les **fonctions de hachage.**\n",
    "\n",
    "\n",
    "**Les fonctions de hachage** \n",
    "\n",
    "Lorsque vous téléchargez un fichier important et que vous souhaitez vérifier qu'il n'a pas été corrompu lors du téléchargement (ou avant), vous avez parfois la possibilité de vérifier l'intégrité de votre fichier téléchargé, en calculant une «empreinte» de votre fichier et en la comparant avec celle que vous êtes censée obtenir :\n",
    "\n",
    "Voilà par exemple ce qui apparaît sur la page de téléchargement d'une iso d'ubuntu 18.04 :\n",
    "![](data/iso.png)\n",
    "\n",
    "La clé MD5 proposée pour chaque fichier est le résultat ce que **doit** donner le fichier (ici une iso d'environ 1,9 Go) lorsqu'il est «haché» par la fonction MD5. Dans notre cas, si nous téléchargeons \n",
    "```ubuntu-18.04.3-desktop-amd64.iso```, nous devons calculer l'empreinte du fichier téléchargé et vérifier que nous obtenons bien ```72491db7ef6f3cd4b085b9fe1f232345``` :\n",
    "\n",
    "\n",
    "Essayons :\n",
    "\n",
    "![iso.png](attachment:iso.png)\n",
    "\n",
    "La clé calculée sur l'ordinateur correspond bien à celle indiquée sur le site de téléchargement : le fichier est intègre.\n",
    "\n",
    "\n",
    "**Que fait la fonction de hachage MD5 ?**\n",
    "\n",
    "Quelle que soit la taille du fichier donné en entrée, la fonction MD5 va le réduire à un mot de 128 bits.\n",
    "Ce mot binaire de 128 bits est représenté par une chaîne de 32 caractères (en hexadécimal, de 0 à f). Il y a donc $2^{128}$ (de l'ordre de $10^{39}$) empreintes MD5 différentes, ce qui rend quasiment impossible le fait d'avoir un mauvais fichier qui donnerait (par un très très mauvais hasard) la bonne empreinte.\n",
    "\n",
    "Le mécanisme effectif de calcul de la fonction MD5 est très complexe : une explication en est donnée [ici](http://www.bibmath.net/crypto/index.php?action=affiche&quoi=moderne/md5).\n",
    "\n",
    "\n",
    "Il est évidemment **impossible** de revenir en arrière et de recréer le fichier original à partir de l'empreinte MD5. Dans le cas contraire, cela voudrait dire qu'on est capable de compresser *sans perte* un fichier de 1,9 Go en une chaîne de 128 bits. Cette impossibilité de trouver une fonction réciproque à la fonction de hachage est très importante en cryptographie.\n",
    "\n",
    "En effet, les simples chaînes de caractères peuvent aussi être transformées par une fonction de hachage :\n",
    "![](data/terminal.png)\n",
    "\n",
    "\n",
    "![](data/md5.png)\n",
    "\n",
    "Quel est l'intérêt de hacher une chaîne de caractère ? La conservation des mots de passe !\n"
   ]
  },
  {
   "cell_type": "markdown",
   "metadata": {},
   "source": [
    "**Stockage des mots de passe sur un serveur**\n",
    "\n",
    "Les sites qui nécessitent une authentification par login / mot de passe ne conservent pas en clair les mots de passe sur leur serveur. La moindre compromission de leur serveur serait en effet dramatique. Ce qui est conservé est l'empreinte du mot de passe après son passage par une fonction de hachage.  \n",
    "Par exemple, un site où notre mot de passe serait ```vive la NSI``` conserverait dans ses bases de données l'empreinte ```e74fb2f94c052bbf16cea4a795145e35```.  \n",
    "À chaque saisie du mot de passe côté client, l'empreinte est recalculée (toujours côté client, afin de ne pas faire transiter le mot de passe en clair), puis comparée au niveau du serveur avec l'empreinte stockée. \n",
    "De cette façon, si les communications entre le client et le serveur sont interceptées, ou bien si le serveur est compromis, le non-réversibilité de la fonction de hachage assure que le mot de passe ne peut pas être retrouvé par les attaquants.\n",
    "\n",
    "**Non-réversibilité de la fonction de hachage, vraiment ?** \n",
    "\n",
    "Prenons l'empreinte MD5 ```bdc87b9c894da5168059e00ebffb9077``` et allons fureter du côté de (par exemple) https://md5hashing.net/hash/md5 \n",
    "\n",
    "Notre empreinte ne résiste pas bien longtemps...  \n",
    "Re-essayons alors avec l'empreinte  ```e74fb2f94c052bbf16cea4a795145e35```.\n",
    "\n",
    "\n",
    "Les empreintes des mots de passe les plus fréquents sont stockées dans des tables (qu'on appelle *rainbow tables* ou *tables arc-en-ciel*) qui rendent possibles le déchiffrage de ces empreintes.\n",
    "\n",
    "Pour contrer cela, les cryptographes rajoutent des caractères avant hachage (le *sel*), et choisissent surtout des bonnes fonctions de hachage. MD5 et SHA-1 ne sont plus utilisées, on préfère maintenant SHA-256 (voir [ici](https://fr.wikipedia.org/wiki/Secure_Hash_Algorithm))."
   ]
  },
  {
   "cell_type": "markdown",
   "metadata": {},
   "source": [
    "### <u>4/ Retour aux dictionnaires</u>\n",
    "En quoi les fonctions de hachage ont-elles un rôle à jouer dans l'implémentation d'un dictionnaire ?  \n",
    "\n",
    "L'idée essentielle est que chaque clé est hachée pour donner une empreinte unique, qui est ensuite transformée en un indice de positionnement dans un tableau.\n",
    "\n",
    "Le dictionnaire :"
   ]
  },
  {
   "cell_type": "code",
   "execution_count": null,
   "metadata": {},
   "outputs": [],
   "source": [
    "d = {\"pommes\":3, \"poires\":0, \"bananes\":5}"
   ]
  },
  {
   "attachments": {
    "hashdico.png": {
     "image/png": "[encoded data removed]"
    }
   },
   "cell_type": "markdown",
   "metadata": {},
   "source": [
    "serait donc par exemple implémenté dans un tableau comme celui-ci :\n",
    "\n",
    "![hashdico.png](attachment:hashdico.png)\n",
    "\n",
    "On peut remarquer que ce tableau laisse beaucoup de cases vides (pour plus de renseignements, voir [https://www.jessicayung.com/how-python-implements-dictionaries/](https://www.jessicayung.com/how-python-implements-dictionaries/) , site en anglais).\n",
    "\n",
    "\n",
    "Si je souhaite ensuite accéder à l'élément ```d[\"kiwis\"]``` :\n",
    "- le hash de la chaîne ```\"kiwis\"``` est calculé. Par exemple, ```4512d2202```.\n",
    "- l'indice de la position (éventuelle) de la clé ```\"kiwis\"``` dans mon dictionnaire est calculé à partir de ce hash ```4512d2202```. Dans notre exemple, cela pourrait donner l'indice 3.\n",
    "- Python accède **directement** à cet indice du tableau :\n",
    "    - si la valeur de la clé sur cette ligne du tableau est None, cela signifie que ```\"kiwis\"``` n'est pas une clé existante du tableau. C'est notre cas ici car il n'y a rien à la ligne 3.\n",
    "    - si la valeur de la clé sur cette ligne du tableau est bien ```\"kiwis\"```, la valeur correspondante est renvoyée.\n",
    "\n",
    "En résumé, Python sait toujours où aller chercher un élément de son dictionnaire : soit il le trouve à l'endroit calculé, soit il n'y a rien à cet endroit calculé, ce qui veut dire que l'élément ne fait pas partie du dictionnaire. \n",
    "\n",
    "Par ce mécanisme, l'accès à un élément du dictionnaire se fait toujours en temps **constant**.\n",
    "\n",
    "Il existe une manière de «voir» que Python utilise une fonction de hachage pour implémenter un dictionnaire :\n"
   ]
  },
  {
   "cell_type": "code",
   "execution_count": null,
   "metadata": {},
   "outputs": [],
   "source": [
    "mondico = {}\n",
    "\n",
    "# un nombre peut-il être une clé?\n",
    "mondico[4] = \"foo\"\n",
    "\n",
    "# une chaîne de caractères peut-elle être une clé ?\n",
    "mondico[\"riri\"] = \"fifi\"\n",
    "\n",
    "# une liste peut-elle être une clé ?\n",
    "mondico[[2,5]] = \"loulou\""
   ]
  },
  {
   "cell_type": "markdown",
   "metadata": {},
   "source": [
    "Le message d'erreur est explicite : le type ```list``` que nous avons voulu utiliser comme clé n'est pas hachable, car c'est un type d'objet pouvant être modifié a posteriori tout en gardant la même référence (on dit que c'est un objet **mutable**):"
   ]
  },
  {
   "cell_type": "code",
   "execution_count": null,
   "metadata": {},
   "outputs": [],
   "source": [
    "# La fonction `id(obj)` renvoie l'identité unique d'un objet sous forme d'entier\n",
    "a = [3, 6, 8]\n",
    "print(id(a))\n",
    "a.append(12)\n",
    "print(id(a))"
   ]
  },
  {
   "cell_type": "markdown",
   "metadata": {},
   "source": [
    "Ce changement de valeur tout en gardant la même référence détruirait le principe associant à une clé unique une position unique dans le tableau implémentant le dictionnaire."
   ]
  },
  {
   "cell_type": "markdown",
   "metadata": {},
   "source": [
    "Ce problème ne se pose pas si la variable désigne une chaîne de caractères, ou un nombre :"
   ]
  },
  {
   "cell_type": "code",
   "execution_count": null,
   "metadata": {},
   "outputs": [],
   "source": [
    "a = 2020\n",
    "print(id(a))\n",
    "a += 1\n",
    "print(id(a))\n"
   ]
  },
  {
   "cell_type": "markdown",
   "metadata": {},
   "source": [
    "Un variable contenant un entier est donc un objet **immuable** (on <b>non mutable</b>) car si on modifie la valeur de l'entier, la référence de la variable changera aussi. Comme un dictionnaire a besoin d'avoir des clés dont les références soient définitives, seuls les objets **immuables** peuvent donc servir de clés dans les dictionnaires."
   ]
  },
  {
   "cell_type": "markdown",
   "metadata": {},
   "source": [
    "## I<u>II/ Manipulation des dictionnaires</u>\n",
    "\n",
    "Lien ici vers le cours de Première, https://github.com/lmayer65/NSI_T/blob/main/Programme_NSI_1/Repr%C3%A9sentation_Num%C3%A9rique_Donn%C3%A9es/Types.Construits/RND.Types.Construits.pdf (à partir de la page 10)"
   ]
  },
  {
   "cell_type": "code",
   "execution_count": null,
   "metadata": {},
   "outputs": [],
   "source": [
    "dressing = {\"pantalons\":3, \"pulls\":4, \"tee-shirts\":8}"
   ]
  },
  {
   "cell_type": "code",
   "execution_count": null,
   "metadata": {},
   "outputs": [],
   "source": [
    "dressing[\"pulls\"]"
   ]
  },
  {
   "cell_type": "code",
   "execution_count": null,
   "metadata": {},
   "outputs": [],
   "source": [
    "vocabulaire = {\"navigateur\":\"browser\", \"précédent\":\"back\", \"suivant\":\"forward\"}"
   ]
  },
  {
   "cell_type": "code",
   "execution_count": null,
   "metadata": {},
   "outputs": [],
   "source": [
    "vocabulaire[\"suivant\"]"
   ]
  },
  {
   "cell_type": "code",
   "execution_count": null,
   "metadata": {},
   "outputs": [],
   "source": [
    "AlanTuring = {\"naissance\":(23,6,1912),\"décès\":(12,6,1954),\"lieu naissance\":\"Londres\", \"lieu décès\":\"Wilmslow\"}"
   ]
  },
  {
   "cell_type": "code",
   "execution_count": null,
   "metadata": {},
   "outputs": [],
   "source": [
    "AlanTuring[\"décès\"]"
   ]
  },
  {
   "cell_type": "markdown",
   "metadata": {},
   "source": [
    "### <u>1/ Définition d'un dictionnaire</u>\n",
    "Un dictionnaire est une donnée composite qui **n'est pas ordonnée** (dans le sens d'un tri d'une liste par exemple).  \n",
    "Il fonctionne par un système de `clé:valeur`.  \n",
    "Les clés, comme les valeurs, peuvent être de types différents.\n",
    "Un <b>dictionnaire est délimité par des accolades</b>. \n",
    "\n",
    "<u>Rappels</u> :\n",
    "- crochets [ ] -> listes\n",
    "- parenthèses ( ) -> tuples\n",
    "- accolades { } -> dictionnaires\n"
   ]
  },
  {
   "cell_type": "code",
   "execution_count": null,
   "metadata": {},
   "outputs": [],
   "source": [
    "vocabulaire"
   ]
  },
  {
   "cell_type": "code",
   "execution_count": null,
   "metadata": {},
   "outputs": [],
   "source": [
    "type(vocabulaire)"
   ]
  },
  {
   "cell_type": "markdown",
   "metadata": {},
   "source": [
    "Il est possible d'obtenir la liste des clés et des valeurs avec la méthode `keys()` et la méthode `values`."
   ]
  },
  {
   "cell_type": "code",
   "execution_count": null,
   "metadata": {},
   "outputs": [],
   "source": [
    "dressing.keys()"
   ]
  },
  {
   "cell_type": "code",
   "execution_count": null,
   "metadata": {},
   "outputs": [],
   "source": [
    "for dress in dressing.keys() :\n",
    "    print(dress,end=\";\")"
   ]
  },
  {
   "cell_type": "code",
   "execution_count": null,
   "metadata": {},
   "outputs": [],
   "source": [
    "vocabulaire.values()"
   ]
  },
  {
   "cell_type": "code",
   "execution_count": null,
   "metadata": {},
   "outputs": [],
   "source": [
    "for val in dressing.values() :\n",
    "    print(val,end=\";\")"
   ]
  },
  {
   "cell_type": "markdown",
   "metadata": {},
   "source": [
    "### <u>3/ Création d'un dictionnaire vide</u>\n",
    "On crée un dictionnaire vide par l'instruction :"
   ]
  },
  {
   "cell_type": "code",
   "execution_count": null,
   "metadata": {},
   "outputs": [],
   "source": [
    "monDico = dict()"
   ]
  },
  {
   "cell_type": "code",
   "execution_count": null,
   "metadata": {},
   "outputs": [],
   "source": [
    "type(monDico)"
   ]
  },
  {
   "cell_type": "markdown",
   "metadata": {},
   "source": [
    "ou plus simplement de cette manière :"
   ]
  },
  {
   "cell_type": "code",
   "execution_count": null,
   "metadata": {},
   "outputs": [],
   "source": [
    "unAutreDico = {}"
   ]
  },
  {
   "cell_type": "code",
   "execution_count": null,
   "metadata": {},
   "outputs": [],
   "source": [
    "type(unAutreDico)"
   ]
  },
  {
   "cell_type": "markdown",
   "metadata": {},
   "source": [
    "### <u>4/ Ajout / Modification d'un élément dans un dictionnaire</u>\n",
    "Pas besoin d'une méthode `append()`, il suffit de rajouter une paire `clé : valeur`"
   ]
  },
  {
   "cell_type": "code",
   "execution_count": null,
   "metadata": {},
   "outputs": [],
   "source": [
    "dressing[\"chaussettes\"] = 12"
   ]
  },
  {
   "cell_type": "code",
   "execution_count": null,
   "metadata": {},
   "outputs": [],
   "source": [
    "dressing"
   ]
  },
  {
   "cell_type": "markdown",
   "metadata": {},
   "source": [
    "On peut évidemment modifier un dictionnaire existant (ce n'est pas un tuple !)"
   ]
  },
  {
   "cell_type": "code",
   "execution_count": null,
   "metadata": {},
   "outputs": [],
   "source": [
    "dressing[\"chaussettes\"] = 11"
   ]
  },
  {
   "cell_type": "code",
   "execution_count": null,
   "metadata": {},
   "outputs": [],
   "source": [
    "dressing"
   ]
  },
  {
   "cell_type": "markdown",
   "metadata": {},
   "source": [
    "### <u>5/ Suppression d'une valeur</u>\n",
    "On utilise l'instruction `del` (déjà rencontrée pour les listes)"
   ]
  },
  {
   "cell_type": "code",
   "execution_count": null,
   "metadata": {},
   "outputs": [],
   "source": [
    "del dressing[\"chaussettes\"]"
   ]
  },
  {
   "cell_type": "code",
   "execution_count": null,
   "metadata": {},
   "outputs": [],
   "source": [
    "dressing"
   ]
  },
  {
   "cell_type": "markdown",
   "metadata": {},
   "source": [
    "### <u>6/ Test d'appartenance à un dictionnaire</u>\n",
    "Le mot `in` permet de tester l'appartenance d'une clé à un dictionnaire. Un booléen est renvoyé. A tester dans une instruction conditionnelle par exemple."
   ]
  },
  {
   "cell_type": "code",
   "execution_count": null,
   "metadata": {},
   "outputs": [],
   "source": [
    "\"cravates\" in dressing"
   ]
  },
  {
   "cell_type": "code",
   "execution_count": null,
   "metadata": {},
   "outputs": [],
   "source": [
    "\"pulls\" in dressing"
   ]
  },
  {
   "cell_type": "markdown",
   "metadata": {},
   "source": [
    "### <u>7/ Utilisation de `in` pour d'autres types construits (listes, tuples, chaines de caractères...)</u>"
   ]
  },
  {
   "cell_type": "code",
   "execution_count": null,
   "metadata": {},
   "outputs": [],
   "source": [
    "voyelles = (\"a\", \"e\", \"i\", \"o\", \"u\", \"y\")"
   ]
  },
  {
   "cell_type": "code",
   "execution_count": null,
   "metadata": {},
   "outputs": [],
   "source": [
    "\"y\" in voyelles"
   ]
  },
  {
   "cell_type": "code",
   "execution_count": null,
   "metadata": {},
   "outputs": [],
   "source": [
    "\"z\" in voyelles"
   ]
  },
  {
   "cell_type": "code",
   "execution_count": null,
   "metadata": {},
   "outputs": [],
   "source": [
    "mot = \"vacances\"\n",
    "\"k\" in mot"
   ]
  }
 ],
 "metadata": {
  "kernelspec": {
   "display_name": "Python 3",
   "language": "python",
   "name": "python3"
  },
  "language_info": {
   "codemirror_mode": {
    "name": "ipython",
    "version": 3
   },
   "file_extension": ".py",
   "mimetype": "text/x-python",
   "name": "python",
   "nbconvert_exporter": "python",
   "pygments_lexer": "ipython3",
   "version": "3.8.5"
  },
  "toc": {
   "base_numbering": 1,
   "nav_menu": {},
   "number_sections": false,
   "sideBar": true,
   "skip_h1_title": false,
   "title_cell": "Table of Contents",
   "title_sidebar": "Contents",
   "toc_cell": false,
   "toc_position": {},
   "toc_section_display": true,
   "toc_window_display": false
  }
 },
 "nbformat": 4,
 "nbformat_minor": 2
}
