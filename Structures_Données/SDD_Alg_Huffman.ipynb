{
 "cells": [
  {
   "cell_type": "markdown",
   "id": "44e30674",
   "metadata": {},
   "source": [
    "# <u>Activité</u> : La compression d'Huffman\n",
    "<u>Sources</u> : https://tcharles.developpez.com/Huffman/ et https://towardsdatascience.com/huffman-decoding-cca770065bab"
   ]
  },
  {
   "cell_type": "markdown",
   "id": "a9c93bd6",
   "metadata": {},
   "source": [
    "## <u>I/ Présentation de l'algorithme</u>\n",
    "\n",
    "De nos jours, les espaces de stockage ne posent plus de problèmes. Il n'en est pas de même pour les flux de données sur les réseaux qui restent limités en débit malgré les avancées technologiques (fibre optique etc.). Il reste donc intéressant de <b>compresser</b> des fichiers en vue de les transmettre à autrui.\n",
    "\n",
    "Il existe deux types de <b>compression</b> :\n",
    "\n",
    "    - La première, qui engendre une perte d'informations, est utilisée pour les sons et les images. On peut par exemple supprimer les sons inaudibles ou des surfaces insignifiantes pour les capteurs humains. Il y a donc une perte irréversible de données.\n",
    "    - La seconde est dite `lossless` ou sans perte et est utilisée dans tous les domaines où des informations tronquées sont inacceptables : fichiers exécutables, textes etc. L'idée est de parcourir les données et d'en déduire une écriture plus concise L'une d'elle est la compression d'Huffman, du mathématicien du même nom.\n",
    "    \n",
    "Lien vers un wiki sur Huffman : http://www.espace-turing.fr/Naissance-de-David-A-Huffman.html"
   ]
  },
  {
   "cell_type": "markdown",
   "id": "d1bdea4a",
   "metadata": {},
   "source": [
    "On ne s'appuiera que sur des fichiers textes pour appliquer l'algorithme d'Huffman.\n",
    "\n",
    "Le norme UTF-8 permet de coder les jeux de caractères entre un et quatre octets. L'alphabet français nécessite huit bits soit un octet. <b>L'idée est de remarquer que certains caractères apparaissent bien plus souvent que d'autres</b> (la lettre 'e' par rapport au 'x' par exemple) <b>et donc d'encoder les lettres en fonction de leur effectif</b> : ainsi, la lettre 'e' prend trois bits et le 'x' dix bits avec ce système au lieu de huit bits pour chaque."
   ]
  },
  {
   "cell_type": "markdown",
   "id": "2e492d45",
   "metadata": {},
   "source": [
    "## <u>II/ Construction de l'algorithme</u>\n",
    "\n",
    "\n",
    "<b><u>La première étape</u></b> est de <b>parcourir le texte</b> et de <b>noter les occurrences de chaque caractère</b> : on pourra ainsi les trier en fonction de leur nombre d'apparitions. "
   ]
  },
  {
   "cell_type": "markdown",
   "id": "a86b41eb",
   "metadata": {},
   "source": [
    "<b><u>Question 1</u></b> : voici une phrase, <i>\"présentation de l'algorithme d'huffman.\"</i>\n",
    "<b>Remplacer</b> les \"?\" du tableau suivant :\n",
    "\n",
    "<TABLE>\n",
    "        <TR>\n",
    "            <TD><b>..Caractères.</b>\n",
    "            <TD>p\n",
    "            <TD>r\n",
    "            <TD>é\n",
    "            <TD>s\n",
    "            <TD>?  \n",
    "            <TD>? \n",
    "            <TD>?\n",
    "            <TD>?\n",
    "            <TD>?\n",
    "            <TD>?\n",
    "            <TD>?\n",
    "            <TD>?\n",
    "            <TD>?\n",
    "            <TD>?\n",
    "            <TD>?\n",
    "            <TD>?\n",
    "            <TD>?\n",
    "            <TD>?\n",
    "            <TD>?\n",
    "            <TD>?\n",
    "</TABLE>               \n",
    "               \n",
    "<TABLE>       \n",
    "        <TR>\n",
    "            <TD><b>Occurrences</b>\n",
    "            <TD>1\n",
    "            <TD>2\n",
    "            <TD>?\n",
    "            <TD>?\n",
    "            <TD>?\n",
    "            <TD>?\n",
    "            <TD>?\n",
    "            <TD>?\n",
    "            <TD>?\n",
    "            <TD>?\n",
    "            <TD>?\n",
    "            <TD>?\n",
    "            <TD>?\n",
    "            <TD>?\n",
    "            <TD>?\n",
    "            <TD>?\n",
    "            <TD>?\n",
    "            <TD>?\n",
    "            <TD>? \n",
    "            <TD>?\n",
    "</TABLE>\n",
    "</b>\n"
   ]
  },
  {
   "cell_type": "markdown",
   "id": "5375659f",
   "metadata": {},
   "source": [
    "<b><u>La deuxième étape</u></b> est la construction d'un arbre binaire en représentant chaque caractère par une classe `Noeud`."
   ]
  },
  {
   "attachments": {
    "Etape1.gif": {
     "image/gif": "[encoded data removed]"
    }
   },
   "cell_type": "markdown",
   "id": "3594b9ab",
   "metadata": {},
   "source": [
    "On considère l'exemple suivant :\n",
    "![Etape1.gif](attachment:Etape1.gif)\n",
    "\n",
    "La construction est simple : il suffit de prendre les <b>deux nœuds les moins fréquents (D et H) et de les ajouter comme fils d'un nouveau nœud qui aura pour fréquence la somme des deux</b>."
   ]
  },
  {
   "attachments": {
    "Arbre.gif": {
     "image/gif": "[encoded data removed]"
    }
   },
   "cell_type": "markdown",
   "id": "ee5a57dc",
   "metadata": {},
   "source": [
    "Il suffit de réitérer cette étape jusqu'à ne plus avoir qu'un seul nœud. Après cela, <b>descendre vers la gauche</b> équivaut à un <b>0</b>, et <b>descendre vers la droite</b> à un <b>1</b>.\n",
    "\n",
    "On obtient un arbre comme celui-ci :\n",
    "![Arbre.gif](attachment:Arbre.gif)"
   ]
  },
  {
   "cell_type": "markdown",
   "id": "68bdc0ea",
   "metadata": {},
   "source": [
    "On remarque que chaque <b>caractère</b> occupe <u><b>obligatoirement</b></u> une <b>feuille</b> de l'arbre créé avec <u>une profondeur</u> d'autant <u>plus élevée que son occurrence est faible</u>.\n",
    "Les noeuds internes permettent de relier les feuilles."
   ]
  },
  {
   "cell_type": "markdown",
   "id": "9c36ef42",
   "metadata": {},
   "source": [
    "Pour l'encodage, il suffit de lire l'arbre en <u>profondeur</u>. Par exemple, la <b>lettre 'D'</b> est encodée <b>'111000'</b> et la lettre 'e' est encodée <b>'110'</b>. Chose essentielle, <b>aucun code d'une lettre ne doit être le préfixe d'un code d'une autre lettre</b> et cela, l'arbre le permet. En effet, si la lettre 'A' est codée par '0' et que la lettre 'B' est codée par '01', comment l'algorithme pourrait-il deviner que le code '01' correspond bien à la lettre 'B' et non pas à la lettre 'A' et le '1' le début d'un code d'une autre lettre ?\n",
    "\n",
    "Une <u>vidéo explicative ici</u> (de la 15ème minute à la 25ème minute environ) : https://www.youtube.com/watch?v=6Ma6r8qCd4A\n",
    "\n",
    "Il est très clair que cet encodage est bien plus concis que l'UTF-8 qui utiliserait 8 bits quelque soit la lettre ! On parvient à un taux de compression entre 30 et 60% selon les textes."
   ]
  },
  {
   "attachments": {
    "Sans%20titre-2.png": {
     "image/png": "[encoded data removed]"
    }
   },
   "cell_type": "markdown",
   "id": "ad90baed",
   "metadata": {},
   "source": [
    "<b><u>Question 2</u></b> : <b>Donner</b> l'encodage des lettres 'I' , 'M' ,'T' et 'Y'.\n",
    "\n",
    "<b><u>Question 3</u></b> : <b>Etablir</b> l'arbre de Huffman des caractères suivants : \n",
    "![Sans%20titre-2.png](attachment:Sans%20titre-2.png)"
   ]
  },
  {
   "attachments": {},
   "cell_type": "markdown",
   "id": "eecf1ed2",
   "metadata": {},
   "source": [
    "\n",
    "\n",
    "### <u>Appel au professeur (pour vérification)</u>\n",
    "    "
   ]
  },
  {
   "cell_type": "markdown",
   "id": "8c4175fc",
   "metadata": {},
   "source": [
    "## <u>III/ Programmation de l'algorithme</u>"
   ]
  },
  {
   "cell_type": "markdown",
   "id": "7214483b",
   "metadata": {},
   "source": [
    "<b><u>La première étape</u></b> est de repérer les occurrences de chaque caractère.\n",
    "\n",
    "\n",
    "<b><u>Question 4</u></b> : Ecrire une fonction `calc_occurrences(texte)` qui renvoie un dictionnaire, <b>stockant</b> les <u>caractères présents</u> (<i>clé</i>) avec leurs <u>occurrences</u> (<i>valeur</i>). Il prendra en argument le texte à analyser.\n",
    "\n",
    "<u>Exemple</u> : dico_brut = { 'A': 3 , 'c' : 4 ...} : cela signifie que le caractère 'A' apparaît trois fois et que le caractère 'c' quatre fois.\n",
    "\n",
    "\n",
    "<u>Aide</u> : on pensera à la méthode `get(key)` ou l'instruction `in` qui permet de savoir si une clé est déjà présente dans le dictionnaire. Lien : https://python.doctor/page-apprendre-dictionnaire-python"
   ]
  },
  {
   "cell_type": "code",
   "execution_count": null,
   "id": "e3f7616b",
   "metadata": {},
   "outputs": [],
   "source": [
    "# Texte à encoder\n",
    "texte_brut = \"\"\"Le programme de NSI est très concret : vous allez travailler en petits groupes sur des projets, des défis\n",
    "logiques à résoudre avec les langages de programmation les plus utilisés en informatique. En général, ce sera\n",
    "Python (très utilisé pour les robots et les jeux vidéo), mais vous verrez aussi HTML, CSS et Javascript \n",
    "qui sont les trois langages de quasiment tous les sites internet, et SQL qui est utilisé pour les grosses bases de données.\n",
    "Quand on code, on rate et on corrige ! Et c’est comme ça que vous travaillerez avec vos professeurs sur vos projets :\n",
    "c’est en faisant des erreurs qu’on apprend, et vous devrez améliorer vos programmes au fur et à mesure pour\n",
    "qu’ils vous obéissent au doigt et à l’œil.\"\"\""
   ]
  },
  {
   "cell_type": "code",
   "execution_count": null,
   "id": "df575264",
   "metadata": {},
   "outputs": [],
   "source": [
    "# Parcours du texte\n",
    "def calc_occurrences(texte) :\n",
    "    # création du dictionnaire \n",
    "    dico_brut = {}\n",
    "    \n",
    "    ################################################################################\n",
    "    #################### ECRIRE ICI LE PROGRAMME ###################################\n",
    "    ################################################################################\n",
    "    \n",
    "    # Si le caractère est déjà présent dans le dictionnaire dico_brut : \n",
    "    ###########################################\n",
    "    ############# A COMPLETER #################\n",
    "    ########################################### \n",
    "        \n",
    "    \n",
    "    # Si le caractère est une nouvelle clé\n",
    "    else :\n",
    "    ###########################################\n",
    "    ############# A COMPLETER #################\n",
    "    ###########################################\n",
    "    \n",
    "    \n",
    "    ################################################################################\n",
    "    \n",
    "    return dico_brut\n",
    "\n",
    "\n",
    "\n",
    "# Affichage pour tester\n",
    "print(calc_occurrences(texte_brut))"
   ]
  },
  {
   "attachments": {
    "Sans%20titre.png": {
     "image/png": "[encoded data removed]"
    }
   },
   "cell_type": "markdown",
   "id": "ecb4cc0e",
   "metadata": {},
   "source": [
    "<u>Résultats attendus</u> :\n",
    "![Sans%20titre.png](attachment:Sans%20titre.png)\n",
    "    \n",
    "### <u>Appel au professeur (si besoin)</u>"
   ]
  },
  {
   "cell_type": "markdown",
   "id": "47b208d1",
   "metadata": {},
   "source": [
    "<b><u>La seconde étape</u></b> est de construire l'arbre de Huffman. Pour se faire, on utilisera des fonctions auxiliaires (la fonction `calc_occurrences(texte)`en fait partie)."
   ]
  },
  {
   "cell_type": "markdown",
   "id": "110841de",
   "metadata": {},
   "source": [
    "Voici la définition de la classe `Noeud` qui a en attributs :\n",
    "- `valeur`: c'est l'occurrence d'un caractère (feuille) mais aussi la somme des occurrences des fils (noeuds internes).\n",
    "- `symbole`: c'est le symbole représentant le caractère. il n'y en a pas pour les noeuds internes.\n",
    "- `gauche` : présence d'un fils à gauche (`None` sinon).\n",
    "- `droit`: présence d'un fils à droite (`None`sinon).\n",
    "- `code`: c'est `0` s'il s'agit d'un fils gauche, `1` pour un fils droit (noeuds internes)."
   ]
  },
  {
   "cell_type": "code",
   "execution_count": null,
   "id": "c09ea8b8",
   "metadata": {},
   "outputs": [],
   "source": [
    "class Noeud :\n",
    "    def __init__(self, val, symb, gau = None, dro = None) :\n",
    "        self.valeur = val\n",
    "        self.symbole = symb\n",
    "        self.gauche = gau\n",
    "        self.droit = dro\n",
    "        self.code = ''    # Vide par défaut\n",
    "    "
   ]
  },
  {
   "cell_type": "markdown",
   "id": "d3506a97",
   "metadata": {},
   "source": [
    "La fonction `calc_codes(noeud, val = '')`doit <b>calculer le code de Huffman de chaque caractère</b>. Il faut donc parcourir les noeuds depuis la racine et ajouter le code associé à chaque noeud interne intermédiaire (`0`pour un fils gauche et `1` pour un fils droit). Pour utiliser cette fonction, l'arbre de Huffman doit bien sûr être construit :)\n",
    "\n",
    "Le plus simple est d'utiliser la récursivité.\n",
    "- <u>Cas d'arrêt</u> : le noeud concerné est une feuille donc représente un caractère : on lui associe le code (variable `nouv_valeur`).\n",
    "- <u>Cas général</u> : le noeud a un fils gauche, on procéde par récursivité sur le noeud gauche avec la nouvelle valeur. Même méthode s'il y a un fils droit."
   ]
  },
  {
   "cell_type": "markdown",
   "id": "9fd4f759",
   "metadata": {},
   "source": [
    "<b><u>Question 5</u></b> : <b>Compléter</b> la fonction `calc_codes(noeud, val = '')` qui permet de coder chaque caractère (on s'appuiera sur les donées ci-dessus)."
   ]
  },
  {
   "cell_type": "code",
   "execution_count": null,
   "id": "8d476a7f",
   "metadata": {},
   "outputs": [],
   "source": [
    "# Dictionnaire associant `symbole` et `code` de chaque noeud\n",
    "codes = {}\n",
    "\n",
    "# Calcul du code d'Huffman pour chaque `noeud`\n",
    "def calc_codes(noeud, val = '') :\n",
    "    # Code pour chaque feuille en format chaîne de caractère\n",
    "    nouv_valeur = val + str(noeud.code)\n",
    "    \n",
    "    # Cas d'arrêt (cas d'une feuille)\n",
    "    if ### A COMPLETER ### :\n",
    "        # Ajout du code du symbole au noeud en question (stockés dans le dictionnaire `codes`) \n",
    "        codes[noeud.symbole] = nouv_valeur\n",
    "    \n",
    "    \n",
    "    \n",
    "    ###########################################\n",
    "    \n",
    "    # Cas général (récursivité en cas de présence d'un fils gauche / droit)\n",
    "    else :\n",
    "    ###########################################\n",
    "    ############# A COMPLETER #################\n",
    "    ###########################################\n",
    "        \n",
    "        \n",
    "    \n",
    "    ###########################################\n",
    "            \n",
    "    return codes\n",
    "    "
   ]
  },
  {
   "attachments": {},
   "cell_type": "markdown",
   "id": "70d24684",
   "metadata": {},
   "source": [
    "Pour le jeu de test, on prendra cet arbre d'Huffman :"
   ]
  },
  {
   "attachments": {
    "Arbre_Huf.png": {
     "image/png": "[encoded data removed]"
    }
   },
   "cell_type": "markdown",
   "id": "907c63a1",
   "metadata": {},
   "source": [
    "![Arbre_Huf.png](attachment:Arbre_Huf.png)"
   ]
  },
  {
   "cell_type": "markdown",
   "id": "a5c07128",
   "metadata": {},
   "source": [
    "<b><u>Question 5</u> (Suite)</b> : <b>Compléter</b> alors le jeu de test suivant :"
   ]
  },
  {
   "cell_type": "code",
   "execution_count": null,
   "id": "a551387a",
   "metadata": {},
   "outputs": [],
   "source": [
    "# Voici la programmation de l'arbre de Huffman ci-dessus.\n",
    "noeud_A = Noeud(2,'A')\n",
    "noeud_A.code = 0\n",
    "noeud_B = Noeud(3,'B')\n",
    "noeud_B.code = 1\n",
    "noeud_5 = Noeud(5,'',noeud_A,noeud_B)\n",
    "noeud_5.code = 0\n",
    "noeud_E = Noeud(4,'E')\n",
    "noeud_E.code = 1\n",
    "noeud_9 = Noeud(9, '',noeud_5,noeud_E)\n",
    "noeud_9.code = 0\n",
    "\n",
    "###########################################\n",
    "############# A COMPLETER #################\n",
    "###########################################    \n",
    "\n",
    "# Noeud racine\n",
    "noeud_22 = ##### A COMPLETER ##### \n",
    "\n",
    "# Jeu de test\n",
    "print(calc_codes(noeud_22)) # Attendu : {'A': '000', 'B': '001', 'E': '01', 'C': '10', 'D': '11'}\n",
    "  "
   ]
  },
  {
   "cell_type": "markdown",
   "id": "eb910586",
   "metadata": {},
   "source": [
    "Voici la fonction auxiliaire permettant de lire l'encodage selon l'algorithme d'Huffman :"
   ]
  },
  {
   "cell_type": "code",
   "execution_count": null,
   "id": "902ef5c2",
   "metadata": {},
   "outputs": [],
   "source": [
    "def encodage(donnees, code) :\n",
    "    encodage_sortie = []\n",
    "    \n",
    "    for char in donnees :\n",
    "        # Affichage des données, bit par bit\n",
    "        print(code[char], end  = '')\n",
    "        encodage_sortie.append(code[char])\n",
    "    \n",
    "    # Transforme la liste en chaîne de caractères (sans les espaces)\n",
    "    chaine = ''.join([str(item) for item in encodage_sortie])\n",
    "    \n",
    "    return chaine \n",
    "        "
   ]
  },
  {
   "cell_type": "markdown",
   "id": "50184f8d",
   "metadata": {},
   "source": [
    "<b><u>La troisième étape</u></b> est de construire l'arbre selon l'algorithme d'Huffman.\n",
    "\n",
    "Voici un exemple ci-dessous :"
   ]
  },
  {
   "cell_type": "code",
   "execution_count": null,
   "id": "f90657c2",
   "metadata": {},
   "outputs": [],
   "source": [
    "def Huffman(texte) :\n",
    "    # Accueille l'arbre selon l'algorithme d'Huffman\n",
    "    noeuds = []\n",
    "    \n",
    "    # Calcul des occurrences par caractère (dictionnaire)\n",
    "    syb_eff = calc_occurrences(texte)\n",
    "    \n",
    "    # Récupération de clés / svaleurs séparemment\n",
    "    symboles = syb_eff.keys()\n",
    "    effectifs = syb_eff.values()\n",
    "    \n",
    "    # Affichage des caractères / occurrences\n",
    "    print(\"Caractères\",symboles)\n",
    "    print(\"Effectifs\",effectifs)\n",
    "    print(\"\\n\")\n",
    "    \n",
    "    for symbole in symboles:\n",
    "        noeuds.append(Noeud(syb_eff.get(symbole), symbole))\n",
    "        \n",
    "    while len(noeuds) > 1 :\n",
    "        # Tri des noeuds selon leur fréquence d'apparition\n",
    "        noeuds = sorted(noeuds,key = lambda x:x.valeur)\n",
    "        \n",
    "        # On obtient les deux plus petites fréquences\n",
    "        gauche = noeuds[0]\n",
    "        droit = noeuds[1]\n",
    "        \n",
    "        # Application du code d'Huffman\n",
    "        gauche.code = 0\n",
    "        droit.code = 1\n",
    "        \n",
    "        # On combine ces deux noeuds aux plus petites valeurs\n",
    "        nouv_noeud = Noeud(gauche.valeur + droit.valeur, None, gauche, droit)\n",
    "        \n",
    "        # On supprime les deux anciens arbres (ils en forment un seul désormais)\n",
    "        noeuds.remove(gauche)\n",
    "        noeuds.remove(droit)\n",
    "        noeuds.append(nouv_noeud)\n",
    "    \n",
    "    # Appel aux fonctions auxiliaires\n",
    "    huffman_encodage = calc_codes(noeuds[0])\n",
    "    huffman_texte = encodage(texte_brut,huffman_encodage)\n",
    "    \n",
    "    return huffman_texte, noeuds[0] # Renvoie le texte codé (et l'arbre) selon Huffman\n",
    "\n",
    "\n",
    "# Jeu de tests\n",
    "texte_code, huffman_arbre = Huffman(texte_brut)\n",
    "print(texte_code)"
   ]
  },
  {
   "cell_type": "markdown",
   "id": "fa0a2480",
   "metadata": {},
   "source": [
    "On peut calculer le taux de <b>compression</b> par la formule <i>comp = 1 - taille_texte_huffman / taille_texte_brut</i>"
   ]
  },
  {
   "cell_type": "code",
   "execution_count": null,
   "id": "c6efa72a",
   "metadata": {},
   "outputs": [],
   "source": []
  },
  {
   "cell_type": "markdown",
   "id": "70c4eec9",
   "metadata": {},
   "source": [
    "<b><u>Question 6</u></b> : <b>Ecrire</b> un script affichant la taux de compression obtenu. "
   ]
  },
  {
   "cell_type": "code",
   "execution_count": null,
   "id": "4ce52946",
   "metadata": {},
   "outputs": [],
   "source": [
    "################ ECRIRE LE SCRIPT ICI #######################\n"
   ]
  },
  {
   "cell_type": "markdown",
   "id": "60dfb552",
   "metadata": {},
   "source": [
    "<u>Résultat attendu</u> : 44% (à l'unité près)\n",
    "\n",
    "### <u>Appel au professeur (si besoin)</u>"
   ]
  },
  {
   "cell_type": "markdown",
   "id": "28081e09",
   "metadata": {},
   "source": [
    "## <u>IV/ Décodage du code d'Huffman</u>"
   ]
  },
  {
   "cell_type": "markdown",
   "id": "cf4dcfbe",
   "metadata": {},
   "source": [
    "On souhaite maintenant <u>décoder</u> le texte et ainsi vérifier que l'algorithme d'Huffman est <b>réversible</b> et <b>sans perte d'information</b>.\n",
    "\n",
    "L'algorithme associé est relativement simple : on parcourt l'arbre au gré des `1` (<i>fils droit</i>) et des `0`(<i>fils gauche</i>). Lorsque l'on arrive sur une <b>feuille</b>, il s'agit d'un <b>caractère</b>, il suffit de récupérer le symbole et le tour est joué.\n",
    "\n",
    "<u>Par étapes</u> :\n",
    "\n",
    "- On part de la `racine` de l'arbre d'Huffman.\n",
    "- On parcourt le `texte_code` caractère par caractère.\n",
    "- Si on trouve `1`, on va au fils droit. S'il vaut `None`, c'est que le noeud en question est une feuille : on récupère le caractère grâce à l'attribut `symbole` et on l'ajoute à la variable `liste_decode`. On n'oublie pas de repartir de la `racine` !\n",
    "- Si on trouve `0`, on va au fils gauche. Et mêmes remarques que précédemment."
   ]
  },
  {
   "cell_type": "code",
   "execution_count": null,
   "id": "60e01b58",
   "metadata": {},
   "outputs": [],
   "source": [
    "def decodage(texte_code, huffman_arbre):\n",
    "    # On stocke la racine de l'arbre.\n",
    "    racine = huffman_arbre\n",
    "    # Récupère les caractères dans une liste\n",
    "    liste_decode = []\n",
    "    \n",
    "    # On parcourt chaque bit du texte codé.\n",
    "    for x in texte_code :\n",
    "    ###########################################\n",
    "    ############# A COMPLETER #################\n",
    "    ###########################################\n",
    "        \n",
    "        \n",
    "        \n",
    "        \n",
    "    ###########################################\n",
    "    \n",
    "    # Transformation de la liste de caractères en chaîne de caractères.\n",
    "    car_decode = ''.join([str(item) for item in liste_decode])\n",
    "    \n",
    "    return car_decode\n",
    "\n",
    "\n",
    "# Jeu de tests\n",
    "# Récupération du texte codé et de l'arbre d'Huffman\n",
    "texte_code, huffman_arbre = Huffman(texte_brut)\n",
    "\n",
    "# Vérification du décodage\n",
    "print(\"\\n\",decodage(texte_code,huffman_arbre))  # Attendu : retrouver le texte de départ."
   ]
  },
  {
   "cell_type": "markdown",
   "id": "c9a021d4",
   "metadata": {},
   "source": [
    "### <u>Appel au professeur (si besoin)</u>"
   ]
  },
  {
   "cell_type": "markdown",
   "id": "df4cb0ae",
   "metadata": {},
   "source": [
    "<b><u>Remarque</u></b> : <b>N'hésitez pas à modifier le texte_brut, y compris en langue étrangère !</b>"
   ]
  },
  {
   "cell_type": "markdown",
   "id": "a07ae77b",
   "metadata": {},
   "source": [
    "En pratique, le code d'Huffman est intégré dans des fichiers : il faut donc transcrire l'arbre en entête pour que l'ordinateur puisse reconstruire les informations (texte ou autre). Il est avantageux dans la compression de fichiers plutôt longs et est encore utilisé de nos jours, en parallèle d'autres systèmes de compression avec pertes (images par exemple)."
   ]
  }
 ],
 "metadata": {
  "kernelspec": {
   "display_name": "Python 3 (ipykernel)",
   "language": "python",
   "name": "python3"
  },
  "language_info": {
   "codemirror_mode": {
    "name": "ipython",
    "version": 3
   },
   "file_extension": ".py",
   "mimetype": "text/x-python",
   "name": "python",
   "nbconvert_exporter": "python",
   "pygments_lexer": "ipython3",
   "version": "3.9.7"
  }
 },
 "nbformat": 4,
 "nbformat_minor": 5
}
