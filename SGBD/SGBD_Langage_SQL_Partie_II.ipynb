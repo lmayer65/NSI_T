{
 "cells": [
  {
   "cell_type": "markdown",
   "metadata": {},
   "source": [
    "# <u>SGBD.Langage_SQL</u> (Partie_II)"
   ]
  },
  {
   "attachments": {},
   "cell_type": "markdown",
   "metadata": {},
   "source": [
    "## <u>II/ Langage SQL (Avancé)</u>\n",
    "\n",
    "\n",
    "Dans toute la suite, nous allons toujours travailler avec la base de données ```livres.db``` qui provient de l'ouvrage paru chez Ellipses, cité en bibliographie.\n",
    "\n",
    "**Pré-requis :** téléchargez la base de données https://github.com/lmayer65/NSI_T/blob/main/SGBD/livres.db et la monter dans `Jupyter`."
   ]
  },
  {
   "cell_type": "code",
   "execution_count": null,
   "metadata": {},
   "outputs": [],
   "source": [
    "####################################\n",
    "########### A exécuter !! ##########\n",
    "####################################\n",
    "\n",
    "!pip install jupyter-sql\n",
    "!pip install ipython-sql\n",
    "!pip install python3-sql\n",
    "\n",
    "####################################"
   ]
  },
  {
   "cell_type": "code",
   "execution_count": null,
   "metadata": {},
   "outputs": [],
   "source": [
    "####################################\n",
    "########### A exécuter !! ##########\n",
    "####################################\n",
    "\n",
    "%load_ext sql\n",
    "%sql sqlite:///livres.db\n",
    "    \n",
    "####################################"
   ]
  },
  {
   "cell_type": "markdown",
   "metadata": {},
   "source": [
    "> Dans toute la suite, les manipulations sont à faire en interrogeant la base de données ```livres.db```, avec l'une des méthodes indiquées ci-dessus.\n",
    " Cette base de données contient les tables suivantes :\n",
    "https://github.com/lmayer65/NSI_T/blob/main/SGBD/tables_livres.png\n",
    "\n",
    " ### <u>1/ Des recherches croisées sur les tables : les jointures</u>\n",
    "\n",
    "Observons le contenu de la table «emprunt» :\n",
    "\n",
    "```sql\n",
    "SELECT * FROM emprunt;\n",
    "``` \n",
    "https://github.com/lmayer65/NSI_T/blob/main/SGBD/req_ex_1.png\n",
    "\n",
    "Le contenu est peu lisible. Souvenons-nous du diagramme de la base de données.\n",
    "\n",
    "https://github.com/lmayer65/NSI_T/blob/main/SGBD/tables_livres.png\n",
    "\n",
    " Pour que la table «emprunt» soit lisible, il faudrait (dans un premier temps) que l'on affiche à la place de l'ISBN le titre de l'ouvrage. Or ce titre est disponible dans la table «livres».  On va donc procéder à une **jointure** de ces deux tables.</u>\n",
    " \n",
    "\n",
    "#### <u>Exemple 13</u> : Jointure de deux tables 🠖 JOIN\n",
    "- **Commande :** \n",
    "```sql\n",
    "SELECT livre.titre, emprunt.code_barre, emprunt.retour FROM emprunt\n",
    "         JOIN livre ON emprunt.isbn = livre.isbn;\n",
    "``` \n",
    "- **Traduction :** \n",
    "Comme plusieurs tables sont appelées, nous préfixons chaque colonne avec le nom de la table. Nous demandons ici l'affichage de la table «emprunt», mais où on aura remplacé l'ISBN (peu lisible) par le titre du livre.\n",
    "\n",
    "L'expression \n",
    "```sql\n",
    "JOIN livre ON emprunt.isbn = livre.isbn\n",
    "``` \n",
    "doit se comprendre comme ceci : on «invite» la table «livres» (dont on va afficher la colonne «titre»). La correspondance entre la table «livres» et la table «emprunt» doit se faire sur l'attribut ISBN, qui est la clé primaire de «livres» et une clé étrangère d'«emprunts».  \n",
    "Il est donc très important de spécifier ce sur quoi les deux tables vont se retrouver (ici, l'ISBN) "
   ]
  },
  {
   "cell_type": "code",
   "execution_count": null,
   "metadata": {},
   "outputs": [],
   "source": [
    "%%sql\n",
    "\n",
    "/* **********Ecrire la commande ici************ */\n",
    "\n",
    "\n"
   ]
  },
  {
   "cell_type": "markdown",
   "metadata": {},
   "source": [
    "#### <u>Exemple 14</u> : Jointure de trois tables 🠖 JOIN\n",
    "\n",
    "Le résultat précédemment a permis d'améliorer la visibilité de la table «emprunt», mais il reste la colonne «code_barre» qui est peu lisible. Nous pouvons la remplacer par le titre du livre, en faisant une nouvelle jointure, en invitant maintenant les deux tables «livre» et «usager».\n",
    "\n",
    "- **Commande :** \n",
    "```sql\n",
    "SELECT u.nom, u.prenom, l.titre, e.retour FROM emprunt AS e\n",
    "         JOIN livre AS l ON e.isbn = l.isbn\n",
    "         JOIN usager AS u ON e.code_barre = u.code_barre;\n",
    "``` \n",
    "- **Traduction :** \n",
    "Il faut bien comprendre que la table principale qui nous intéresse ici est «emprunts», mais qu'on modifie les valeurs affichées en allant chercher des correspondances dans deux autres tables. \n",
    "Notez ici que des alias sont donnés aux tables (par **AS**) afin de faciliter l'écriture. "
   ]
  },
  {
   "cell_type": "code",
   "execution_count": null,
   "metadata": {},
   "outputs": [],
   "source": [
    "%%sql\n",
    "\n",
    "/* **********Ecrire la commande ici************ */\n",
    "\n"
   ]
  },
  {
   "cell_type": "markdown",
   "metadata": {},
   "source": [
    "\n",
    "### <u>2/ Création et modification d'une base de données</u>\n",
    "\n",
    "\n",
    "\n",
    "L'objectif est de créer la table suivante :\n",
    "\n",
    "| id | Nom | Maths | Anglais | NSI |\n",
    "|:-----:|:-----:|:-------:|:----:|:----:|\n",
    "| 1 | Alice | 16 | 11 | 17 |\n",
    "| 2 | Bob  | 12 | 15 | 10 |\n",
    "| 3 | Charles | 9 | 11 | 18 |\n"
   ]
  },
  {
   "cell_type": "markdown",
   "metadata": {},
   "source": [
    "#### <u>Exemple 15</u> : Création d'une table 🠖 CREATE TABLE\n",
    "\n",
    "- **Commande :** \n",
    "```sql\n",
    "CREATE TABLE Table_notes (\n",
    "        Id INTEGER PRIMARY KEY,\n",
    "        Nom TEXT,\n",
    "        Maths INTEGER,\n",
    "        Anglais INTEGER,\n",
    "        NSI INTEGER\n",
    "        );\n",
    "``` \n",
    "<u><b>Remarques</b></u> :\n",
    "C'est l'utilisateur qui spécifie, éventuellement, quel attribut sera une clé primaire. On peut tout à fait utiliser le mot clé `AUTOINCREMENT` comme type qui permettra d'attribuer un numéro (croissant) unique à chaque enregistrement."
   ]
  },
  {
   "cell_type": "code",
   "execution_count": null,
   "metadata": {},
   "outputs": [],
   "source": [
    "%%sql\n",
    "\n",
    "/* **********Ecrire la commande ici************ */\n",
    "\n",
    "CREATE TABLE IF NOT EXISTS Table_notes (\n",
    "      Id INTEGER PRIMARY KEY,\n",
    "      Nom TEXT,\n",
    "      Maths INTEGER,\n",
    "      Anglais INTEGER,\n",
    "      NSI INTEGER\n",
    "      );\n"
   ]
  },
  {
   "cell_type": "markdown",
   "metadata": {},
   "source": [
    "#### <u>Exemple 16</u> : Insertion de valeurs 🠖 INSERT INTO, VALUES\n",
    "\n",
    "- **Commande :** \n",
    "```sql\n",
    "INSERT INTO Table_notes VALUES  (1, 'Alice', 16, 11, 17),\n",
    "\t\t                (2, 'Bob', 12, 15, 10),\n",
    "                        (3, 'Charles', 9, 11, 14);\n",
    "``` \n",
    "\n",
    "<u><b>Remarque</b></u> : si le mot clé `AUTOINCREMENT` a été utilisé pour générer automatiquement la clé primaire, il ne faut pas l'indiquer dans la requête."
   ]
  },
  {
   "cell_type": "code",
   "execution_count": null,
   "metadata": {},
   "outputs": [],
   "source": [
    "%%sql\n",
    "\n",
    "/* **********Ecrire la commande ici************ */\n",
    "\n",
    "\n",
    "\n",
    "\n",
    "/* *** Pour vérifier que les données sont bien entrées *** */\n",
    "\n",
    "SELECT * FROM Table_notes;"
   ]
  },
  {
   "cell_type": "markdown",
   "metadata": {},
   "source": [
    "#### <u>Exemple 17</u> : Intérêt de la clé primaire\n",
    "Essayons d'insérer un 4ème enregistrement ayant le même ```id``` qu'un autre élève. \n",
    "\n",
    "- **Commande :** \n",
    "```sql\n",
    "INSERT INTO Table_notes VALUES  (3, 'Denis', 18, 10, 12);\n",
    "``` \n"
   ]
  },
  {
   "cell_type": "code",
   "execution_count": null,
   "metadata": {},
   "outputs": [],
   "source": [
    "%%sql\n",
    "\n",
    "/* **********Ecrire la commande ici************ */\n",
    "\n"
   ]
  },
  {
   "cell_type": "markdown",
   "metadata": {},
   "source": [
    "<u><b>Question (Oral)</b></u> : que se passe-t-il ? <b>Justifier</b>."
   ]
  }
 ],
 "metadata": {
  "kernelspec": {
   "display_name": "Python 3",
   "language": "python",
   "name": "python3"
  },
  "language_info": {
   "codemirror_mode": {
    "name": "ipython",
    "version": 3
   },
   "file_extension": ".py",
   "mimetype": "text/x-python",
   "name": "python",
   "nbconvert_exporter": "python",
   "pygments_lexer": "ipython3",
   "version": "3.8.5"
  }
 },
 "nbformat": 4,
 "nbformat_minor": 4
}
