{
 "cells": [
  {
   "cell_type": "markdown",
   "metadata": {},
   "source": [
    "# RND. Nombres. Réels\n",
    "\n",
    "Cette partie a pour but de s'approprier de la représentation des nombres réels en binaire. Elle explore aussi les limites de ce système.\n"
   ]
  },
  {
   "cell_type": "markdown",
   "metadata": {},
   "source": [
    "## <u>Activité 1</u> : Conversion de nombre réels en binaire\n",
    "\n",
    "<b>Convertir</b> les nombres réels suivant en binaire :\n",
    "\n",
    "a/ 11,5\n",
    "\n",
    "b/ 8,875\n",
    "\n",
    "c/ 25,625\n",
    "\n",
    "d/ 17,375\n",
    "\n",
    "e/ 42,125 \n",
    "\n",
    "<b>Vérifier</b> les résultats obtenus à l'aide du programme suivant :\n",
    "\n",
    "<u>Remarque</u> : Ne pas hésiter à s'entraîner et à vérifier les résultats à  l'aide programme suivant."
   ]
  },
  {
   "cell_type": "code",
   "execution_count": 12,
   "metadata": {},
   "outputs": [
    {
     "name": "stdout",
     "output_type": "stream",
     "text": [
      "0,00011001100110011001100110011001100110011001100110\n"
     ]
    }
   ],
   "source": [
    "############## CE PROGRAMME PERMET DE CONVERTIR UN NOMBRE POSITIF EN ECRITURE BINAIRE ############\n",
    "\n",
    "from math import floor  # Prend la partie entière d'un réel\n",
    "\n",
    "\n",
    "########### ENTRER LE NOMBRE A CONVERTIR ICI #############\n",
    "nbreAConvertir = 0.1\n",
    "\n",
    "\n",
    "chfLimit = 50      # On se limite ici à 50 chiffres après la virgule (double précision de Python)\n",
    "\n",
    "# Convertit un nombre décimal en binaire\n",
    "def convertToBinary(x,nbreLimit) :\n",
    "    # On garde de côté la partie entière et la décimale\n",
    "    partieEntiere = floor(x)\n",
    "    partieDecimale = x - floor(x)\n",
    "    \n",
    "    # Conversion de la partie entière en décimale\n",
    "    partieEntiereBinaire = bin(partieEntiere)\n",
    "    partieEntiereBinaire = partieEntiereBinaire[2 : len(partieEntiereBinaire)]  # Elimine le 'Ob'\n",
    "    \n",
    "    # Application de l'algorithme pour convertir la partie décimale en binaire\n",
    "    partieDecimaleBinaire = \"\"\n",
    "    i = 0\n",
    "    while i < nbreLimit :\n",
    "        partieDecimaleBinaire += str(floor(partieDecimale*2))\n",
    "        partieDecimale = partieDecimale*2 - floor(partieDecimale*2)\n",
    "        i += 1\n",
    "    \n",
    "    # Concaténation de la partie entière et décimale\n",
    "    conversion = partieEntiereBinaire + \",\" + partieDecimaleBinaire \n",
    "    return conversion\n",
    "    \n",
    "    \n",
    "# Appel de la fonction\n",
    "print(convertToBinary(nbreAConvertir,chfLimit))    \n",
    "    "
   ]
  },
  {
   "cell_type": "markdown",
   "metadata": {},
   "source": [
    "## <u>Activité 2</u> : Des valeurs approchées\n",
    "\n",
    "La plupart des nombres réels ne peuvent pas être représentés de manière exacte. "
   ]
  },
  {
   "cell_type": "markdown",
   "metadata": {},
   "source": [
    "1/ On effectue le calcul suivant : 0,1 + 0,2 - 0,3. Quel <b>résultat</b> attend-t-on ?\n",
    "    \n",
    "2/ <b>Exécuter</b> le programme suivant. <b>Justifier</b> le résultat obtenu."
   ]
  },
  {
   "cell_type": "code",
   "execution_count": null,
   "metadata": {},
   "outputs": [],
   "source": [
    "print(0.1 + 0.2 - 0.3)"
   ]
  },
  {
   "cell_type": "markdown",
   "metadata": {},
   "source": [
    "3/ <b> Exécuter</b> le programme suivant. "
   ]
  },
  {
   "cell_type": "code",
   "execution_count": null,
   "metadata": {},
   "outputs": [],
   "source": [
    "print(0.1 + 0.3 - 0.4)"
   ]
  },
  {
   "cell_type": "markdown",
   "metadata": {},
   "source": [
    "Quelle valeur obtient-on ? <b>Proposer une hypothèse</b>.\n",
    "\n",
    "### <u>Appeler le professeur</u>"
   ]
  },
  {
   "cell_type": "markdown",
   "metadata": {},
   "source": [
    "## <u>Activité 3</u> : Conversion de nombre réels selon la norme IEEE-754 (4 octets)\n",
    "\n",
    "La norme IEEE-754 (précision simple) sur 32 bits (4 octets) s'exprime ainsi :\n",
    "- 1 bit pour le signe\n",
    "- 8 bits pour l'exposant\n",
    "- 23 bits pour la mantisse\n",
    "\n",
    "<b>Convertir</b> les nombres de l'activité 1 selon la norme IEEE-754. <b>Utiliser</b> le programme suivant pour vérifier les résultats\n",
    "\n",
    "<u>Remarque</u> : Ne pas hésiter à s'entraîner et à vérifier les résultats à  l'aide programme suivant."
   ]
  },
  {
   "cell_type": "code",
   "execution_count": null,
   "metadata": {},
   "outputs": [],
   "source": [
    "############# NOMBRE A CONVERTIR #####################\n",
    "nbreAConvertir = 45.125\n",
    "\n",
    "\n",
    "\n",
    "def flottant(x) :\n",
    "    # Traduction du signe ('1' si négatif, '0' si positif)\n",
    "    signe = '0'\n",
    "    if x < 0 :\n",
    "        signe = '1'\n",
    "        x = -x    # On prend l'opposé d'un éventuel nombre négatif dans la suite du traitement\n",
    "        \n",
    "    # Calcul de l'exposant\n",
    "    exposant = 0\n",
    "    while x >=2 :\n",
    "        x /= 2\n",
    "        exposant += 1\n",
    "        \n",
    "    # x est désormais strictement inférieur à '1', on traite donc la mantisse\n",
    "    # Si x = 1, c'est qu'il s'agit d'une puissance de 2, donc déjà traité\n",
    "    while x < 1 :\n",
    "        x *= 2\n",
    "        exposant -= 1\n",
    "        \n",
    "    # Exposant décalé\n",
    "    exposant += 127\n",
    "    \n",
    "    # En binaire sur 8 bits\n",
    "    exposantBinaire = bin(exposant)[2:]   # Supprime le 0b\n",
    "    exposant = [\"0\",\"0\",\"0\",\"0\",\"0\",\"0\",\"0\",\"0\"]\n",
    "    for i in range(len(exposantBinaire)) :\n",
    "        exposant[-i] = exposantBinaire[-i]\n",
    "        \n",
    "    exposant = \"\".join(exposant)   # Convertit une liste en chaîne de caractères\n",
    "    \n",
    "    # Mantisse tronquée\n",
    "    x -= 1\n",
    "    \n",
    "    mantisse = ''\n",
    "    for i in range(23) :\n",
    "        x *= 2\n",
    "        if x >= 1:\n",
    "            mantisse += '1'\n",
    "            x -= 1\n",
    "        else :\n",
    "            mantisse += '0'\n",
    "            \n",
    "    return signe + ' ' + exposant + ' ' + mantisse\n",
    "\n",
    "\n",
    "print(flottant(nbreAConvertir))"
   ]
  }
 ],
 "metadata": {
  "kernelspec": {
   "display_name": "Python 3",
   "language": "python",
   "name": "python3"
  },
  "language_info": {
   "codemirror_mode": {
    "name": "ipython",
    "version": 3
   },
   "file_extension": ".py",
   "mimetype": "text/x-python",
   "name": "python",
   "nbconvert_exporter": "python",
   "pygments_lexer": "ipython3",
   "version": "3.7.3"
  }
 },
 "nbformat": 4,
 "nbformat_minor": 4
}
